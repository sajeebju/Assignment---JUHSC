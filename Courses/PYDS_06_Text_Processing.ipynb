{
 "cells": [
  {
   "cell_type": "markdown",
   "metadata": {},
   "source": [
    "# Text Processing"
   ]
  },
  {
   "cell_type": "code",
   "execution_count": 1,
   "metadata": {},
   "outputs": [
    {
     "data": {
      "text/plain": [
       "\"If I smelled the scent of hand sanitizers today on someone in the past, I would think they were so intoxicated that… https://t.co/QZvYbrOgb0 Hey @Yankees @YankeesPR and @MLB - wouldn't it have made more sense to have the players pay their respects to the A… https://t.co/1QvW0zgyPu\""
      ]
     },
     "execution_count": 1,
     "metadata": {},
     "output_type": "execute_result"
    }
   ],
   "source": [
    "text = \"If I smelled the scent of hand sanitizers today on someone in the past, I would think they were so intoxicated that… https://t.co/QZvYbrOgb0 Hey @Yankees @YankeesPR and @MLB - wouldn\\'t it have made more sense to have the players pay their respects to the A… https://t.co/1QvW0zgyPu\"\n",
    "text"
   ]
  },
  {
   "cell_type": "markdown",
   "metadata": {},
   "source": [
    "### upper/lower/capitalize"
   ]
  },
  {
   "cell_type": "code",
   "execution_count": 2,
   "metadata": {},
   "outputs": [
    {
     "data": {
      "text/plain": [
       "\"IF I SMELLED THE SCENT OF HAND SANITIZERS TODAY ON SOMEONE IN THE PAST, I WOULD THINK THEY WERE SO INTOXICATED THAT… HTTPS://T.CO/QZVYBROGB0 HEY @YANKEES @YANKEESPR AND @MLB - WOULDN'T IT HAVE MADE MORE SENSE TO HAVE THE PLAYERS PAY THEIR RESPECTS TO THE A… HTTPS://T.CO/1QVW0ZGYPU\""
      ]
     },
     "execution_count": 2,
     "metadata": {},
     "output_type": "execute_result"
    }
   ],
   "source": [
    "text.upper()"
   ]
  },
  {
   "cell_type": "code",
   "execution_count": 3,
   "metadata": {},
   "outputs": [
    {
     "data": {
      "text/plain": [
       "\"if i smelled the scent of hand sanitizers today on someone in the past, i would think they were so intoxicated that… https://t.co/qzvybrogb0 hey @yankees @yankeespr and @mlb - wouldn't it have made more sense to have the players pay their respects to the a… https://t.co/1qvw0zgypu\""
      ]
     },
     "execution_count": 3,
     "metadata": {},
     "output_type": "execute_result"
    }
   ],
   "source": [
    "text.lower()"
   ]
  },
  {
   "cell_type": "code",
   "execution_count": 6,
   "metadata": {},
   "outputs": [
    {
     "data": {
      "text/plain": [
       "\"If i smelled the scent of hand sanitizers today on someone in the past, i would think they were so intoxicated that… https://t.co/qzvybrogb0 hey @yankees @yankeespr and @mlb - wouldn't it have made more sense to have the players pay their respects to the a… https://t.co/1qvw0zgypu\""
      ]
     },
     "execution_count": 6,
     "metadata": {},
     "output_type": "execute_result"
    }
   ],
   "source": [
    "text.capitalize()"
   ]
  },
  {
   "cell_type": "code",
   "execution_count": 23,
   "metadata": {},
   "outputs": [
    {
     "data": {
      "text/plain": [
       "\"If I Smelled The Scent Of Hand Sanitizers Today On Someone In The Past, I Would Think They Were So Intoxicated That… Https://t.co/qzvybrogb0 Hey @yankees @yankeespr And @mlb - Wouldn't It Have Made More Sense To Have The Players Pay Their Respects To The A… Https://t.co/1qvw0zgypu\""
      ]
     },
     "execution_count": 23,
     "metadata": {},
     "output_type": "execute_result"
    }
   ],
   "source": [
    "import string\n",
    "string.capwords(text)"
   ]
  },
  {
   "cell_type": "code",
   "execution_count": 81,
   "metadata": {},
   "outputs": [],
   "source": [
    "# a = \"this is a test\"\n",
    "# a.split()\n",
    "# b = \"shantoroy@ieee.org\"\n",
    "# b.split(\"@\")"
   ]
  },
  {
   "cell_type": "code",
   "execution_count": 94,
   "metadata": {},
   "outputs": [],
   "source": [
    "# text.lower()"
   ]
  },
  {
   "cell_type": "code",
   "execution_count": 93,
   "metadata": {},
   "outputs": [],
   "source": [
    "# text"
   ]
  },
  {
   "cell_type": "code",
   "execution_count": null,
   "metadata": {},
   "outputs": [],
   "source": []
  },
  {
   "cell_type": "code",
   "execution_count": 92,
   "metadata": {},
   "outputs": [],
   "source": [
    "# newtext = text.lower()\n",
    "# print(newtext)\n",
    "# print(text)"
   ]
  },
  {
   "cell_type": "markdown",
   "metadata": {},
   "source": [
    "### Counting Words"
   ]
  },
  {
   "cell_type": "code",
   "execution_count": 7,
   "metadata": {},
   "outputs": [],
   "source": [
    "import nltk"
   ]
  },
  {
   "cell_type": "code",
   "execution_count": 8,
   "metadata": {},
   "outputs": [
    {
     "ename": "LookupError",
     "evalue": "\n**********************************************************************\n  Resource \u001b[93mpunkt\u001b[0m not found.\n  Please use the NLTK Downloader to obtain the resource:\n\n  \u001b[31m>>> import nltk\n  >>> nltk.download('punkt')\n  \u001b[0m\n  For more information see: https://www.nltk.org/data.html\n\n  Attempted to load \u001b[93mtokenizers/punkt/PY3/english.pickle\u001b[0m\n\n  Searched in:\n    - '/Users/roy/nltk_data'\n    - '/Users/roy/miniconda3/envs/jupyter/nltk_data'\n    - '/Users/roy/miniconda3/envs/jupyter/share/nltk_data'\n    - '/Users/roy/miniconda3/envs/jupyter/lib/nltk_data'\n    - '/usr/share/nltk_data'\n    - '/usr/local/share/nltk_data'\n    - '/usr/lib/nltk_data'\n    - '/usr/local/lib/nltk_data'\n    - ''\n**********************************************************************\n",
     "output_type": "error",
     "traceback": [
      "\u001b[0;31m---------------------------------------------------------------------------\u001b[0m",
      "\u001b[0;31mLookupError\u001b[0m                               Traceback (most recent call last)",
      "\u001b[0;32m<ipython-input-8-04b78e6d5186>\u001b[0m in \u001b[0;36m<module>\u001b[0;34m\u001b[0m\n\u001b[0;32m----> 1\u001b[0;31m \u001b[0mnltk\u001b[0m\u001b[0;34m.\u001b[0m\u001b[0mword_tokenize\u001b[0m\u001b[0;34m(\u001b[0m\u001b[0mtext\u001b[0m\u001b[0;34m)\u001b[0m\u001b[0;34m\u001b[0m\u001b[0;34m\u001b[0m\u001b[0m\n\u001b[0m",
      "\u001b[0;32m~/miniconda3/envs/jupyter/lib/python3.6/site-packages/nltk/tokenize/__init__.py\u001b[0m in \u001b[0;36mword_tokenize\u001b[0;34m(text, language, preserve_line)\u001b[0m\n\u001b[1;32m    142\u001b[0m     \u001b[0;34m:\u001b[0m\u001b[0mtype\u001b[0m \u001b[0mpreserve_line\u001b[0m\u001b[0;34m:\u001b[0m \u001b[0mbool\u001b[0m\u001b[0;34m\u001b[0m\u001b[0;34m\u001b[0m\u001b[0m\n\u001b[1;32m    143\u001b[0m     \"\"\"\n\u001b[0;32m--> 144\u001b[0;31m     \u001b[0msentences\u001b[0m \u001b[0;34m=\u001b[0m \u001b[0;34m[\u001b[0m\u001b[0mtext\u001b[0m\u001b[0;34m]\u001b[0m \u001b[0;32mif\u001b[0m \u001b[0mpreserve_line\u001b[0m \u001b[0;32melse\u001b[0m \u001b[0msent_tokenize\u001b[0m\u001b[0;34m(\u001b[0m\u001b[0mtext\u001b[0m\u001b[0;34m,\u001b[0m \u001b[0mlanguage\u001b[0m\u001b[0;34m)\u001b[0m\u001b[0;34m\u001b[0m\u001b[0;34m\u001b[0m\u001b[0m\n\u001b[0m\u001b[1;32m    145\u001b[0m     return [\n\u001b[1;32m    146\u001b[0m         \u001b[0mtoken\u001b[0m \u001b[0;32mfor\u001b[0m \u001b[0msent\u001b[0m \u001b[0;32min\u001b[0m \u001b[0msentences\u001b[0m \u001b[0;32mfor\u001b[0m \u001b[0mtoken\u001b[0m \u001b[0;32min\u001b[0m \u001b[0m_treebank_word_tokenizer\u001b[0m\u001b[0;34m.\u001b[0m\u001b[0mtokenize\u001b[0m\u001b[0;34m(\u001b[0m\u001b[0msent\u001b[0m\u001b[0;34m)\u001b[0m\u001b[0;34m\u001b[0m\u001b[0;34m\u001b[0m\u001b[0m\n",
      "\u001b[0;32m~/miniconda3/envs/jupyter/lib/python3.6/site-packages/nltk/tokenize/__init__.py\u001b[0m in \u001b[0;36msent_tokenize\u001b[0;34m(text, language)\u001b[0m\n\u001b[1;32m    103\u001b[0m     \u001b[0;34m:\u001b[0m\u001b[0mparam\u001b[0m \u001b[0mlanguage\u001b[0m\u001b[0;34m:\u001b[0m \u001b[0mthe\u001b[0m \u001b[0mmodel\u001b[0m \u001b[0mname\u001b[0m \u001b[0;32min\u001b[0m \u001b[0mthe\u001b[0m \u001b[0mPunkt\u001b[0m \u001b[0mcorpus\u001b[0m\u001b[0;34m\u001b[0m\u001b[0;34m\u001b[0m\u001b[0m\n\u001b[1;32m    104\u001b[0m     \"\"\"\n\u001b[0;32m--> 105\u001b[0;31m     \u001b[0mtokenizer\u001b[0m \u001b[0;34m=\u001b[0m \u001b[0mload\u001b[0m\u001b[0;34m(\u001b[0m\u001b[0;34m'tokenizers/punkt/{0}.pickle'\u001b[0m\u001b[0;34m.\u001b[0m\u001b[0mformat\u001b[0m\u001b[0;34m(\u001b[0m\u001b[0mlanguage\u001b[0m\u001b[0;34m)\u001b[0m\u001b[0;34m)\u001b[0m\u001b[0;34m\u001b[0m\u001b[0;34m\u001b[0m\u001b[0m\n\u001b[0m\u001b[1;32m    106\u001b[0m     \u001b[0;32mreturn\u001b[0m \u001b[0mtokenizer\u001b[0m\u001b[0;34m.\u001b[0m\u001b[0mtokenize\u001b[0m\u001b[0;34m(\u001b[0m\u001b[0mtext\u001b[0m\u001b[0;34m)\u001b[0m\u001b[0;34m\u001b[0m\u001b[0;34m\u001b[0m\u001b[0m\n\u001b[1;32m    107\u001b[0m \u001b[0;34m\u001b[0m\u001b[0m\n",
      "\u001b[0;32m~/miniconda3/envs/jupyter/lib/python3.6/site-packages/nltk/data.py\u001b[0m in \u001b[0;36mload\u001b[0;34m(resource_url, format, cache, verbose, logic_parser, fstruct_reader, encoding)\u001b[0m\n\u001b[1;32m    866\u001b[0m \u001b[0;34m\u001b[0m\u001b[0m\n\u001b[1;32m    867\u001b[0m     \u001b[0;31m# Load the resource.\u001b[0m\u001b[0;34m\u001b[0m\u001b[0;34m\u001b[0m\u001b[0;34m\u001b[0m\u001b[0m\n\u001b[0;32m--> 868\u001b[0;31m     \u001b[0mopened_resource\u001b[0m \u001b[0;34m=\u001b[0m \u001b[0m_open\u001b[0m\u001b[0;34m(\u001b[0m\u001b[0mresource_url\u001b[0m\u001b[0;34m)\u001b[0m\u001b[0;34m\u001b[0m\u001b[0;34m\u001b[0m\u001b[0m\n\u001b[0m\u001b[1;32m    869\u001b[0m \u001b[0;34m\u001b[0m\u001b[0m\n\u001b[1;32m    870\u001b[0m     \u001b[0;32mif\u001b[0m \u001b[0mformat\u001b[0m \u001b[0;34m==\u001b[0m \u001b[0;34m'raw'\u001b[0m\u001b[0;34m:\u001b[0m\u001b[0;34m\u001b[0m\u001b[0;34m\u001b[0m\u001b[0m\n",
      "\u001b[0;32m~/miniconda3/envs/jupyter/lib/python3.6/site-packages/nltk/data.py\u001b[0m in \u001b[0;36m_open\u001b[0;34m(resource_url)\u001b[0m\n\u001b[1;32m    991\u001b[0m \u001b[0;34m\u001b[0m\u001b[0m\n\u001b[1;32m    992\u001b[0m     \u001b[0;32mif\u001b[0m \u001b[0mprotocol\u001b[0m \u001b[0;32mis\u001b[0m \u001b[0;32mNone\u001b[0m \u001b[0;32mor\u001b[0m \u001b[0mprotocol\u001b[0m\u001b[0;34m.\u001b[0m\u001b[0mlower\u001b[0m\u001b[0;34m(\u001b[0m\u001b[0;34m)\u001b[0m \u001b[0;34m==\u001b[0m \u001b[0;34m'nltk'\u001b[0m\u001b[0;34m:\u001b[0m\u001b[0;34m\u001b[0m\u001b[0;34m\u001b[0m\u001b[0m\n\u001b[0;32m--> 993\u001b[0;31m         \u001b[0;32mreturn\u001b[0m \u001b[0mfind\u001b[0m\u001b[0;34m(\u001b[0m\u001b[0mpath_\u001b[0m\u001b[0;34m,\u001b[0m \u001b[0mpath\u001b[0m \u001b[0;34m+\u001b[0m \u001b[0;34m[\u001b[0m\u001b[0;34m''\u001b[0m\u001b[0;34m]\u001b[0m\u001b[0;34m)\u001b[0m\u001b[0;34m.\u001b[0m\u001b[0mopen\u001b[0m\u001b[0;34m(\u001b[0m\u001b[0;34m)\u001b[0m\u001b[0;34m\u001b[0m\u001b[0;34m\u001b[0m\u001b[0m\n\u001b[0m\u001b[1;32m    994\u001b[0m     \u001b[0;32melif\u001b[0m \u001b[0mprotocol\u001b[0m\u001b[0;34m.\u001b[0m\u001b[0mlower\u001b[0m\u001b[0;34m(\u001b[0m\u001b[0;34m)\u001b[0m \u001b[0;34m==\u001b[0m \u001b[0;34m'file'\u001b[0m\u001b[0;34m:\u001b[0m\u001b[0;34m\u001b[0m\u001b[0;34m\u001b[0m\u001b[0m\n\u001b[1;32m    995\u001b[0m         \u001b[0;31m# urllib might not use mode='rb', so handle this one ourselves:\u001b[0m\u001b[0;34m\u001b[0m\u001b[0;34m\u001b[0m\u001b[0;34m\u001b[0m\u001b[0m\n",
      "\u001b[0;32m~/miniconda3/envs/jupyter/lib/python3.6/site-packages/nltk/data.py\u001b[0m in \u001b[0;36mfind\u001b[0;34m(resource_name, paths)\u001b[0m\n\u001b[1;32m    699\u001b[0m     \u001b[0msep\u001b[0m \u001b[0;34m=\u001b[0m \u001b[0;34m'*'\u001b[0m \u001b[0;34m*\u001b[0m \u001b[0;36m70\u001b[0m\u001b[0;34m\u001b[0m\u001b[0;34m\u001b[0m\u001b[0m\n\u001b[1;32m    700\u001b[0m     \u001b[0mresource_not_found\u001b[0m \u001b[0;34m=\u001b[0m \u001b[0;34m'\\n%s\\n%s\\n%s\\n'\u001b[0m \u001b[0;34m%\u001b[0m \u001b[0;34m(\u001b[0m\u001b[0msep\u001b[0m\u001b[0;34m,\u001b[0m \u001b[0mmsg\u001b[0m\u001b[0;34m,\u001b[0m \u001b[0msep\u001b[0m\u001b[0;34m)\u001b[0m\u001b[0;34m\u001b[0m\u001b[0;34m\u001b[0m\u001b[0m\n\u001b[0;32m--> 701\u001b[0;31m     \u001b[0;32mraise\u001b[0m \u001b[0mLookupError\u001b[0m\u001b[0;34m(\u001b[0m\u001b[0mresource_not_found\u001b[0m\u001b[0;34m)\u001b[0m\u001b[0;34m\u001b[0m\u001b[0;34m\u001b[0m\u001b[0m\n\u001b[0m\u001b[1;32m    702\u001b[0m \u001b[0;34m\u001b[0m\u001b[0m\n\u001b[1;32m    703\u001b[0m \u001b[0;34m\u001b[0m\u001b[0m\n",
      "\u001b[0;31mLookupError\u001b[0m: \n**********************************************************************\n  Resource \u001b[93mpunkt\u001b[0m not found.\n  Please use the NLTK Downloader to obtain the resource:\n\n  \u001b[31m>>> import nltk\n  >>> nltk.download('punkt')\n  \u001b[0m\n  For more information see: https://www.nltk.org/data.html\n\n  Attempted to load \u001b[93mtokenizers/punkt/PY3/english.pickle\u001b[0m\n\n  Searched in:\n    - '/Users/roy/nltk_data'\n    - '/Users/roy/miniconda3/envs/jupyter/nltk_data'\n    - '/Users/roy/miniconda3/envs/jupyter/share/nltk_data'\n    - '/Users/roy/miniconda3/envs/jupyter/lib/nltk_data'\n    - '/usr/share/nltk_data'\n    - '/usr/local/share/nltk_data'\n    - '/usr/lib/nltk_data'\n    - '/usr/local/lib/nltk_data'\n    - ''\n**********************************************************************\n"
     ]
    }
   ],
   "source": [
    "nltk.word_tokenize(text)"
   ]
  },
  {
   "cell_type": "code",
   "execution_count": 9,
   "metadata": {},
   "outputs": [
    {
     "name": "stderr",
     "output_type": "stream",
     "text": [
      "[nltk_data] Downloading package punkt to /Users/roy/nltk_data...\n",
      "[nltk_data]   Unzipping tokenizers/punkt.zip.\n"
     ]
    },
    {
     "data": {
      "text/plain": [
       "True"
      ]
     },
     "execution_count": 9,
     "metadata": {},
     "output_type": "execute_result"
    }
   ],
   "source": [
    "nltk.download('punkt')"
   ]
  },
  {
   "cell_type": "code",
   "execution_count": 10,
   "metadata": {},
   "outputs": [
    {
     "data": {
      "text/plain": [
       "['If',\n",
       " 'I',\n",
       " 'smelled',\n",
       " 'the',\n",
       " 'scent',\n",
       " 'of',\n",
       " 'hand',\n",
       " 'sanitizers',\n",
       " 'today',\n",
       " 'on',\n",
       " 'someone',\n",
       " 'in',\n",
       " 'the',\n",
       " 'past',\n",
       " ',',\n",
       " 'I',\n",
       " 'would',\n",
       " 'think',\n",
       " 'they',\n",
       " 'were',\n",
       " 'so',\n",
       " 'intoxicated',\n",
       " 'that…',\n",
       " 'https',\n",
       " ':',\n",
       " '//t.co/QZvYbrOgb0',\n",
       " 'Hey',\n",
       " '@',\n",
       " 'Yankees',\n",
       " '@',\n",
       " 'YankeesPR',\n",
       " 'and',\n",
       " '@',\n",
       " 'MLB',\n",
       " '-',\n",
       " 'would',\n",
       " \"n't\",\n",
       " 'it',\n",
       " 'have',\n",
       " 'made',\n",
       " 'more',\n",
       " 'sense',\n",
       " 'to',\n",
       " 'have',\n",
       " 'the',\n",
       " 'players',\n",
       " 'pay',\n",
       " 'their',\n",
       " 'respects',\n",
       " 'to',\n",
       " 'the',\n",
       " 'A…',\n",
       " 'https',\n",
       " ':',\n",
       " '//t.co/1QvW0zgyPu']"
      ]
     },
     "execution_count": 10,
     "metadata": {},
     "output_type": "execute_result"
    }
   ],
   "source": [
    "nltk.word_tokenize(text)"
   ]
  },
  {
   "cell_type": "code",
   "execution_count": 11,
   "metadata": {},
   "outputs": [
    {
     "data": {
      "text/plain": [
       "55"
      ]
     },
     "execution_count": 11,
     "metadata": {},
     "output_type": "execute_result"
    }
   ],
   "source": [
    "len(nltk.word_tokenize(text))"
   ]
  },
  {
   "cell_type": "code",
   "execution_count": 12,
   "metadata": {},
   "outputs": [
    {
     "data": {
      "text/plain": [
       "['If',\n",
       " 'I',\n",
       " 'smelled',\n",
       " 'the',\n",
       " 'scent',\n",
       " 'of',\n",
       " 'hand',\n",
       " 'sanitizers',\n",
       " 'today',\n",
       " 'on',\n",
       " 'someone',\n",
       " 'in',\n",
       " 'the',\n",
       " 'past,',\n",
       " 'I',\n",
       " 'would',\n",
       " 'think',\n",
       " 'they',\n",
       " 'were',\n",
       " 'so',\n",
       " 'intoxicated',\n",
       " 'that…',\n",
       " 'https://t.co/QZvYbrOgb0',\n",
       " 'Hey',\n",
       " '@Yankees',\n",
       " '@YankeesPR',\n",
       " 'and',\n",
       " '@MLB',\n",
       " '-',\n",
       " \"wouldn't\",\n",
       " 'it',\n",
       " 'have',\n",
       " 'made',\n",
       " 'more',\n",
       " 'sense',\n",
       " 'to',\n",
       " 'have',\n",
       " 'the',\n",
       " 'players',\n",
       " 'pay',\n",
       " 'their',\n",
       " 'respects',\n",
       " 'to',\n",
       " 'the',\n",
       " 'A…',\n",
       " 'https://t.co/1QvW0zgyPu']"
      ]
     },
     "execution_count": 12,
     "metadata": {},
     "output_type": "execute_result"
    }
   ],
   "source": [
    "text.split()"
   ]
  },
  {
   "cell_type": "code",
   "execution_count": 13,
   "metadata": {},
   "outputs": [
    {
     "data": {
      "text/plain": [
       "46"
      ]
     },
     "execution_count": 13,
     "metadata": {},
     "output_type": "execute_result"
    }
   ],
   "source": [
    "len(text.split())"
   ]
  },
  {
   "cell_type": "markdown",
   "metadata": {},
   "source": [
    "### Filtering Duplicates"
   ]
  },
  {
   "cell_type": "code",
   "execution_count": 15,
   "metadata": {},
   "outputs": [
    {
     "data": {
      "text/plain": [
       "['YankeesPR',\n",
       " 'in',\n",
       " 'the',\n",
       " 'sense',\n",
       " 'scent',\n",
       " '-',\n",
       " 'have',\n",
       " 'made',\n",
       " 'someone',\n",
       " 'past',\n",
       " 'intoxicated',\n",
       " 'https',\n",
       " 'and',\n",
       " 'their',\n",
       " 'so',\n",
       " ',',\n",
       " 'more',\n",
       " 'Yankees',\n",
       " 'hand',\n",
       " 'smelled',\n",
       " 'think',\n",
       " 'If',\n",
       " 'pay',\n",
       " 'to',\n",
       " 'players',\n",
       " 'were',\n",
       " 'on',\n",
       " 'it',\n",
       " '@',\n",
       " 'they',\n",
       " '//t.co/QZvYbrOgb0',\n",
       " 'that…',\n",
       " 'respects',\n",
       " 'A…',\n",
       " '//t.co/1QvW0zgyPu',\n",
       " 'sanitizers',\n",
       " \"n't\",\n",
       " 'I',\n",
       " 'Hey',\n",
       " 'of',\n",
       " 'today',\n",
       " ':',\n",
       " 'would',\n",
       " 'MLB']"
      ]
     },
     "execution_count": 15,
     "metadata": {},
     "output_type": "execute_result"
    }
   ],
   "source": [
    "nltk_tokens = nltk.word_tokenize(text)\n",
    "list(set(nltk_tokens))"
   ]
  },
  {
   "cell_type": "code",
   "execution_count": 16,
   "metadata": {},
   "outputs": [
    {
     "data": {
      "text/plain": [
       "44"
      ]
     },
     "execution_count": 16,
     "metadata": {},
     "output_type": "execute_result"
    }
   ],
   "source": [
    "len(list(set(nltk_tokens)))"
   ]
  },
  {
   "cell_type": "markdown",
   "metadata": {},
   "source": [
    "### Extracting emails/urls from text"
   ]
  },
  {
   "cell_type": "code",
   "execution_count": 112,
   "metadata": {},
   "outputs": [
    {
     "data": {
      "text/plain": [
       "['contact@tutorialspoint.com', 'feedback@tp.com']"
      ]
     },
     "execution_count": 112,
     "metadata": {},
     "output_type": "execute_result"
    }
   ],
   "source": [
    "import re\n",
    "text2 = \"Please contact us at contact@tutorialspoint.com for further information.\"+\\\n",
    "        \" You can also give feedbacl at feedback@tp.com\"\n",
    "\n",
    "\n",
    "emails = re.findall(r\"[a-z0-9\\.\\-+_]+@[a-z0-9\\.\\-+_]+\\.[a-z]+\", text2)\n",
    "emails"
   ]
  },
  {
   "cell_type": "code",
   "execution_count": 21,
   "metadata": {},
   "outputs": [
    {
     "data": {
      "text/plain": [
       "['contact@tutorialspoint.com', 'feedback@tp.com']"
      ]
     },
     "execution_count": 21,
     "metadata": {},
     "output_type": "execute_result"
    }
   ],
   "source": [
    "match = re.findall(r'[\\w\\.-]+@[\\w\\.-]+', text2)\n",
    "match"
   ]
  },
  {
   "cell_type": "code",
   "execution_count": 20,
   "metadata": {},
   "outputs": [
    {
     "name": "stdout",
     "output_type": "stream",
     "text": [
      "['https://t.co/QZvYbrOgb0', 'https://t.co/1QvW0zgyPu']\n"
     ]
    }
   ],
   "source": [
    "urls = re.findall(r\"http\\S+\", text)\n",
    "print(urls)"
   ]
  },
  {
   "cell_type": "code",
   "execution_count": 114,
   "metadata": {},
   "outputs": [
    {
     "data": {
      "text/plain": [
       "'Please contact us at  for further information. You can also give feedbacl at '"
      ]
     },
     "execution_count": 114,
     "metadata": {},
     "output_type": "execute_result"
    }
   ],
   "source": [
    "withoutemail = re.sub(r'[\\w\\.-]+@[\\w\\.-]+', \"\", text2)\n",
    "withoutemail"
   ]
  },
  {
   "cell_type": "code",
   "execution_count": 115,
   "metadata": {},
   "outputs": [
    {
     "data": {
      "text/plain": [
       "\"If I smelled the scent of hand sanitizers today on someone in the past, I would think they were so intoxicated that…  Hey @Yankees @YankeesPR and @MLB - wouldn't it have made more sense to have the players pay their respects to the A… \""
      ]
     },
     "execution_count": 115,
     "metadata": {},
     "output_type": "execute_result"
    }
   ],
   "source": [
    "withouturl = re.sub(r\"http\\S+\", \"\", text)\n",
    "withouturl"
   ]
  },
  {
   "cell_type": "markdown",
   "metadata": {},
   "source": [
    "### Tokenization"
   ]
  },
  {
   "cell_type": "code",
   "execution_count": 26,
   "metadata": {},
   "outputs": [
    {
     "data": {
      "text/plain": [
       "['Please contact us at contact@tutorialspoint.com for further information.',\n",
       " 'You can also give feedbacl at feedback@tp.com']"
      ]
     },
     "execution_count": 26,
     "metadata": {},
     "output_type": "execute_result"
    }
   ],
   "source": [
    "# Line tokenization\n",
    "nltk.sent_tokenize(text2)"
   ]
  },
  {
   "cell_type": "code",
   "execution_count": 27,
   "metadata": {},
   "outputs": [
    {
     "data": {
      "text/plain": [
       "['Please',\n",
       " 'contact',\n",
       " 'us',\n",
       " 'at',\n",
       " 'contact',\n",
       " '@',\n",
       " 'tutorialspoint.com',\n",
       " 'for',\n",
       " 'further',\n",
       " 'information',\n",
       " '.',\n",
       " 'You',\n",
       " 'can',\n",
       " 'also',\n",
       " 'give',\n",
       " 'feedbacl',\n",
       " 'at',\n",
       " 'feedback',\n",
       " '@',\n",
       " 'tp.com']"
      ]
     },
     "execution_count": 27,
     "metadata": {},
     "output_type": "execute_result"
    }
   ],
   "source": [
    "# Word tokenization\n",
    "nltk.word_tokenize(text2)"
   ]
  },
  {
   "cell_type": "markdown",
   "metadata": {},
   "source": [
    "### StopWords"
   ]
  },
  {
   "cell_type": "code",
   "execution_count": 28,
   "metadata": {},
   "outputs": [
    {
     "name": "stderr",
     "output_type": "stream",
     "text": [
      "[nltk_data] Downloading package stopwords to /Users/roy/nltk_data...\n",
      "[nltk_data]   Package stopwords is already up-to-date!\n"
     ]
    },
    {
     "data": {
      "text/plain": [
       "True"
      ]
     },
     "execution_count": 28,
     "metadata": {},
     "output_type": "execute_result"
    }
   ],
   "source": [
    "nltk.download('stopwords')"
   ]
  },
  {
   "cell_type": "code",
   "execution_count": 30,
   "metadata": {},
   "outputs": [
    {
     "data": {
      "text/plain": [
       "['i',\n",
       " 'me',\n",
       " 'my',\n",
       " 'myself',\n",
       " 'we',\n",
       " 'our',\n",
       " 'ours',\n",
       " 'ourselves',\n",
       " 'you',\n",
       " \"you're\",\n",
       " \"you've\",\n",
       " \"you'll\",\n",
       " \"you'd\",\n",
       " 'your',\n",
       " 'yours',\n",
       " 'yourself',\n",
       " 'yourselves',\n",
       " 'he',\n",
       " 'him',\n",
       " 'his',\n",
       " 'himself',\n",
       " 'she',\n",
       " \"she's\",\n",
       " 'her',\n",
       " 'hers',\n",
       " 'herself',\n",
       " 'it',\n",
       " \"it's\",\n",
       " 'its',\n",
       " 'itself',\n",
       " 'they',\n",
       " 'them',\n",
       " 'their',\n",
       " 'theirs',\n",
       " 'themselves',\n",
       " 'what',\n",
       " 'which',\n",
       " 'who',\n",
       " 'whom',\n",
       " 'this',\n",
       " 'that',\n",
       " \"that'll\",\n",
       " 'these',\n",
       " 'those',\n",
       " 'am',\n",
       " 'is',\n",
       " 'are',\n",
       " 'was',\n",
       " 'were',\n",
       " 'be',\n",
       " 'been',\n",
       " 'being',\n",
       " 'have',\n",
       " 'has',\n",
       " 'had',\n",
       " 'having',\n",
       " 'do',\n",
       " 'does',\n",
       " 'did',\n",
       " 'doing',\n",
       " 'a',\n",
       " 'an',\n",
       " 'the',\n",
       " 'and',\n",
       " 'but',\n",
       " 'if',\n",
       " 'or',\n",
       " 'because',\n",
       " 'as',\n",
       " 'until',\n",
       " 'while',\n",
       " 'of',\n",
       " 'at',\n",
       " 'by',\n",
       " 'for',\n",
       " 'with',\n",
       " 'about',\n",
       " 'against',\n",
       " 'between',\n",
       " 'into',\n",
       " 'through',\n",
       " 'during',\n",
       " 'before',\n",
       " 'after',\n",
       " 'above',\n",
       " 'below',\n",
       " 'to',\n",
       " 'from',\n",
       " 'up',\n",
       " 'down',\n",
       " 'in',\n",
       " 'out',\n",
       " 'on',\n",
       " 'off',\n",
       " 'over',\n",
       " 'under',\n",
       " 'again',\n",
       " 'further',\n",
       " 'then',\n",
       " 'once',\n",
       " 'here',\n",
       " 'there',\n",
       " 'when',\n",
       " 'where',\n",
       " 'why',\n",
       " 'how',\n",
       " 'all',\n",
       " 'any',\n",
       " 'both',\n",
       " 'each',\n",
       " 'few',\n",
       " 'more',\n",
       " 'most',\n",
       " 'other',\n",
       " 'some',\n",
       " 'such',\n",
       " 'no',\n",
       " 'nor',\n",
       " 'not',\n",
       " 'only',\n",
       " 'own',\n",
       " 'same',\n",
       " 'so',\n",
       " 'than',\n",
       " 'too',\n",
       " 'very',\n",
       " 's',\n",
       " 't',\n",
       " 'can',\n",
       " 'will',\n",
       " 'just',\n",
       " 'don',\n",
       " \"don't\",\n",
       " 'should',\n",
       " \"should've\",\n",
       " 'now',\n",
       " 'd',\n",
       " 'll',\n",
       " 'm',\n",
       " 'o',\n",
       " 're',\n",
       " 've',\n",
       " 'y',\n",
       " 'ain',\n",
       " 'aren',\n",
       " \"aren't\",\n",
       " 'couldn',\n",
       " \"couldn't\",\n",
       " 'didn',\n",
       " \"didn't\",\n",
       " 'doesn',\n",
       " \"doesn't\",\n",
       " 'hadn',\n",
       " \"hadn't\",\n",
       " 'hasn',\n",
       " \"hasn't\",\n",
       " 'haven',\n",
       " \"haven't\",\n",
       " 'isn',\n",
       " \"isn't\",\n",
       " 'ma',\n",
       " 'mightn',\n",
       " \"mightn't\",\n",
       " 'mustn',\n",
       " \"mustn't\",\n",
       " 'needn',\n",
       " \"needn't\",\n",
       " 'shan',\n",
       " \"shan't\",\n",
       " 'shouldn',\n",
       " \"shouldn't\",\n",
       " 'wasn',\n",
       " \"wasn't\",\n",
       " 'weren',\n",
       " \"weren't\",\n",
       " 'won',\n",
       " \"won't\",\n",
       " 'wouldn',\n",
       " \"wouldn't\"]"
      ]
     },
     "execution_count": 30,
     "metadata": {},
     "output_type": "execute_result"
    }
   ],
   "source": [
    "from nltk.corpus import stopwords\n",
    "stopwords.words('english')"
   ]
  },
  {
   "cell_type": "code",
   "execution_count": 31,
   "metadata": {},
   "outputs": [
    {
     "data": {
      "text/plain": [
       "<bound method WordListCorpusReader.words of <WordListCorpusReader in '/Users/roy/nltk_data/corpora/stopwords'>>"
      ]
     },
     "execution_count": 31,
     "metadata": {},
     "output_type": "execute_result"
    }
   ],
   "source": [
    "stopwords.words"
   ]
  },
  {
   "cell_type": "code",
   "execution_count": 32,
   "metadata": {},
   "outputs": [
    {
     "data": {
      "text/plain": [
       "['your',\n",
       " 'yours',\n",
       " 'yourself',\n",
       " 'yourselves',\n",
       " 'he',\n",
       " 'him',\n",
       " 'his',\n",
       " 'himself',\n",
       " 'she',\n",
       " \"she's\",\n",
       " 'her',\n",
       " 'hers',\n",
       " 'herself',\n",
       " 'it',\n",
       " \"it's\",\n",
       " 'its',\n",
       " 'itself',\n",
       " 'they',\n",
       " 'them',\n",
       " 'their',\n",
       " 'theirs',\n",
       " 'themselves',\n",
       " 'what',\n",
       " 'which',\n",
       " 'who',\n",
       " 'whom',\n",
       " 'this',\n",
       " 'that',\n",
       " \"that'll\",\n",
       " 'these',\n",
       " 'those',\n",
       " 'am',\n",
       " 'is',\n",
       " 'are',\n",
       " 'was',\n",
       " 'were',\n",
       " 'be',\n",
       " 'been',\n",
       " 'being',\n",
       " 'have',\n",
       " 'has',\n",
       " 'had',\n",
       " 'having',\n",
       " 'do',\n",
       " 'does',\n",
       " 'did',\n",
       " 'doing',\n",
       " 'a',\n",
       " 'an',\n",
       " 'the',\n",
       " 'and',\n",
       " 'but',\n",
       " 'if',\n",
       " 'or',\n",
       " 'because',\n",
       " 'as',\n",
       " 'until',\n",
       " 'while',\n",
       " 'of',\n",
       " 'at']"
      ]
     },
     "execution_count": 32,
     "metadata": {},
     "output_type": "execute_result"
    }
   ],
   "source": [
    "stopwords.words() [620:680]"
   ]
  },
  {
   "cell_type": "code",
   "execution_count": 33,
   "metadata": {},
   "outputs": [
    {
     "data": {
      "text/plain": [
       "6800"
      ]
     },
     "execution_count": 33,
     "metadata": {},
     "output_type": "execute_result"
    }
   ],
   "source": [
    "len(stopwords.words())"
   ]
  },
  {
   "cell_type": "code",
   "execution_count": 35,
   "metadata": {},
   "outputs": [
    {
     "data": {
      "text/plain": [
       "['arabic',\n",
       " 'azerbaijani',\n",
       " 'danish',\n",
       " 'dutch',\n",
       " 'english',\n",
       " 'finnish',\n",
       " 'french',\n",
       " 'german',\n",
       " 'greek',\n",
       " 'hungarian',\n",
       " 'indonesian',\n",
       " 'italian',\n",
       " 'kazakh',\n",
       " 'nepali',\n",
       " 'norwegian',\n",
       " 'portuguese',\n",
       " 'romanian',\n",
       " 'russian',\n",
       " 'slovene',\n",
       " 'spanish',\n",
       " 'swedish',\n",
       " 'tajik',\n",
       " 'turkish']"
      ]
     },
     "execution_count": 35,
     "metadata": {},
     "output_type": "execute_result"
    }
   ],
   "source": [
    "# Stopwords Languages\n",
    "stopwords.fileids()"
   ]
  },
  {
   "cell_type": "markdown",
   "metadata": {},
   "source": [
    "### Synonyms/Antonyms"
   ]
  },
  {
   "cell_type": "code",
   "execution_count": 36,
   "metadata": {},
   "outputs": [],
   "source": [
    "from nltk.corpus import wordnet"
   ]
  },
  {
   "cell_type": "code",
   "execution_count": 38,
   "metadata": {},
   "outputs": [
    {
     "name": "stdout",
     "output_type": "stream",
     "text": [
      "{'grease', 'dirt', 'stain', 'begrime', 'ground', 'dirty', 'territory', 'land', 'bemire', 'colly', 'filth', 'grunge', 'soil', 'grime'}\n"
     ]
    }
   ],
   "source": [
    "synonyms = []\n",
    "for syn in wordnet.synsets(\"Soil\"):\n",
    "    for lm in syn.lemmas():\n",
    "         synonyms.append(lm.name())\n",
    "print (set(synonyms))"
   ]
  },
  {
   "cell_type": "code",
   "execution_count": 39,
   "metadata": {},
   "outputs": [
    {
     "name": "stdout",
     "output_type": "stream",
     "text": [
      "{'back', 'backward'}\n"
     ]
    }
   ],
   "source": [
    "antonyms = []\n",
    "\n",
    "for syn in wordnet.synsets(\"ahead\"):\n",
    "    for lm in syn.lemmas():\n",
    "        if lm.antonyms():\n",
    "            antonyms.append(lm.antonyms()[0].name())\n",
    "\n",
    "print(set(antonyms))"
   ]
  },
  {
   "cell_type": "markdown",
   "metadata": {},
   "source": [
    "### Translation"
   ]
  },
  {
   "cell_type": "code",
   "execution_count": 40,
   "metadata": {},
   "outputs": [
    {
     "name": "stdout",
     "output_type": "stream",
     "text": [
      "Collecting translate\n",
      "  Downloading https://files.pythonhosted.org/packages/85/b2/2ea329a07bbc0c7227eef84ca89ffd6895e7ec237d6c0b26574d56103e53/translate-3.5.0-py2.py3-none-any.whl\n",
      "Collecting pre-commit\n",
      "\u001b[?25l  Downloading https://files.pythonhosted.org/packages/2c/88/966da62ec93566c221bf8bf0c1b7f04e70f002960a98da05d3fd8bc3b2e7/pre_commit-2.7.1-py2.py3-none-any.whl (171kB)\n",
      "\u001b[K     |████████████████████████████████| 174kB 744kB/s eta 0:00:01\n",
      "\u001b[?25hRequirement already satisfied: click in /Users/roy/miniconda3/envs/jupyter/lib/python3.6/site-packages (from translate) (7.0)\n",
      "Requirement already satisfied: lxml in /Users/roy/miniconda3/envs/jupyter/lib/python3.6/site-packages (from translate) (4.3.3)\n",
      "Requirement already satisfied: requests in /Users/roy/miniconda3/envs/jupyter/lib/python3.6/site-packages (from translate) (2.21.0)\n",
      "Collecting tox\n",
      "\u001b[?25l  Downloading https://files.pythonhosted.org/packages/54/8f/058a8d4255a106f79fd51421a2d90ef904ab1dbed03803ea91c5c7a401dc/tox-3.20.0-py2.py3-none-any.whl (83kB)\n",
      "\u001b[K     |████████████████████████████████| 92kB 1.4MB/s eta 0:00:011\n",
      "\u001b[?25hCollecting virtualenv>=20.0.8\n",
      "\u001b[?25l  Downloading https://files.pythonhosted.org/packages/12/51/36c685ff2c1b2f7b4b5db29f3153159102ae0e0adaff3a26fd1448232e06/virtualenv-20.0.31-py2.py3-none-any.whl (4.9MB)\n",
      "\u001b[K     |████████████████████████████████| 4.9MB 4.8MB/s eta 0:00:01\n",
      "\u001b[?25hCollecting identify>=1.0.0\n",
      "\u001b[?25l  Downloading https://files.pythonhosted.org/packages/2f/9b/a5104b4747b26d750ce4f8069aed7bb7bc64d81d03cdfe4280e39fba99c1/identify-1.4.30-py2.py3-none-any.whl (97kB)\n",
      "\u001b[K     |████████████████████████████████| 102kB 7.7MB/s ta 0:00:011\n",
      "\u001b[?25hCollecting nodeenv>=0.11.1\n",
      "  Downloading https://files.pythonhosted.org/packages/ae/d0/efdf54539948315cc76e5a66b709212963101d002822c3b54369dbf9b5e0/nodeenv-1.5.0-py2.py3-none-any.whl\n",
      "Collecting toml\n",
      "  Using cached https://files.pythonhosted.org/packages/9f/e1/1b40b80f2e1663a6b9f497123c11d7d988c0919abbf3c3f2688e448c5363/toml-0.10.1-py2.py3-none-any.whl\n",
      "Collecting importlib-resources; python_version < \"3.7\"\n",
      "  Downloading https://files.pythonhosted.org/packages/ba/03/0f9595c0c2ef12590877f3c47e5f579759ce5caf817f8256d5dcbd8a1177/importlib_resources-3.0.0-py2.py3-none-any.whl\n",
      "Requirement already satisfied: pyyaml>=5.1 in /Users/roy/miniconda3/envs/jupyter/lib/python3.6/site-packages (from pre-commit->translate) (5.1.2)\n",
      "Requirement already satisfied: importlib-metadata; python_version < \"3.8\" in /Users/roy/miniconda3/envs/jupyter/lib/python3.6/site-packages (from pre-commit->translate) (0.23)\n",
      "Collecting cfgv>=2.0.0\n",
      "  Downloading https://files.pythonhosted.org/packages/45/cd/3878c9248e59e5e2ebd0dc741ab984b18d86e7283ae9b127b05fc287d239/cfgv-3.2.0-py2.py3-none-any.whl\n",
      "Requirement already satisfied: certifi>=2017.4.17 in /Users/roy/miniconda3/envs/jupyter/lib/python3.6/site-packages (from requests->translate) (2019.3.9)\n",
      "Requirement already satisfied: chardet<3.1.0,>=3.0.2 in /Users/roy/miniconda3/envs/jupyter/lib/python3.6/site-packages (from requests->translate) (3.0.4)\n",
      "Requirement already satisfied: urllib3<1.25,>=1.21.1 in /Users/roy/miniconda3/envs/jupyter/lib/python3.6/site-packages (from requests->translate) (1.24.1)\n",
      "Requirement already satisfied: idna<2.9,>=2.5 in /Users/roy/miniconda3/envs/jupyter/lib/python3.6/site-packages (from requests->translate) (2.8)\n",
      "Requirement already satisfied: filelock>=3.0.0 in /Users/roy/miniconda3/envs/jupyter/lib/python3.6/site-packages (from tox->translate) (3.0.12)\n",
      "Requirement already satisfied: packaging>=14 in /Users/roy/miniconda3/envs/jupyter/lib/python3.6/site-packages (from tox->translate) (19.1)\n",
      "Collecting six>=1.14.0\n",
      "  Using cached https://files.pythonhosted.org/packages/ee/ff/48bde5c0f013094d729fe4b0316ba2a24774b3ff1c52d924a8a4cb04078a/six-1.15.0-py2.py3-none-any.whl\n",
      "Requirement already satisfied: pluggy>=0.12.0 in /Users/roy/miniconda3/envs/jupyter/lib/python3.6/site-packages (from tox->translate) (0.13.0)\n",
      "Requirement already satisfied: py>=1.4.17 in /Users/roy/miniconda3/envs/jupyter/lib/python3.6/site-packages (from tox->translate) (1.8.0)\n",
      "Collecting distlib<1,>=0.3.1\n",
      "\u001b[?25l  Downloading https://files.pythonhosted.org/packages/f5/0a/490fa011d699bb5a5f3a0cf57de82237f52a6db9d40f33c53b2736c9a1f9/distlib-0.3.1-py2.py3-none-any.whl (335kB)\n",
      "\u001b[K     |████████████████████████████████| 337kB 5.3MB/s eta 0:00:01\n",
      "\u001b[?25hCollecting appdirs<2,>=1.4.3\n",
      "  Downloading https://files.pythonhosted.org/packages/3b/00/2344469e2084fb287c2e0b57b72910309874c3245463acd6cf5e3db69324/appdirs-1.4.4-py2.py3-none-any.whl\n",
      "Requirement already satisfied: zipp>=0.4; python_version < \"3.8\" in /Users/roy/miniconda3/envs/jupyter/lib/python3.6/site-packages (from importlib-resources; python_version < \"3.7\"->pre-commit->translate) (0.6.0)\n",
      "Requirement already satisfied: pyparsing>=2.0.2 in /Users/roy/miniconda3/envs/jupyter/lib/python3.6/site-packages (from packaging>=14->tox->translate) (2.3.1)\n",
      "Requirement already satisfied: attrs in /Users/roy/miniconda3/envs/jupyter/lib/python3.6/site-packages (from packaging>=14->tox->translate) (19.1.0)\n",
      "Requirement already satisfied: more-itertools in /Users/roy/miniconda3/envs/jupyter/lib/python3.6/site-packages (from zipp>=0.4; python_version < \"3.8\"->importlib-resources; python_version < \"3.7\"->pre-commit->translate) (7.2.0)\n",
      "Installing collected packages: distlib, importlib-resources, appdirs, six, virtualenv, identify, nodeenv, toml, cfgv, pre-commit, tox, translate\n",
      "  Found existing installation: six 1.12.0\n",
      "    Uninstalling six-1.12.0:\n",
      "      Successfully uninstalled six-1.12.0\n",
      "Successfully installed appdirs-1.4.4 cfgv-3.2.0 distlib-0.3.1 identify-1.4.30 importlib-resources-3.0.0 nodeenv-1.5.0 pre-commit-2.7.1 six-1.15.0 toml-0.10.1 tox-3.20.0 translate-3.5.0 virtualenv-20.0.31\n"
     ]
    }
   ],
   "source": [
    "!pip install translate"
   ]
  },
  {
   "cell_type": "code",
   "execution_count": 41,
   "metadata": {},
   "outputs": [
    {
     "name": "stdout",
     "output_type": "stream",
     "text": [
      "Guten Morgen!\n"
     ]
    }
   ],
   "source": [
    "from translate import Translator\n",
    "translator= Translator(to_lang=\"German\")\n",
    "translation = translator.translate(\"Good Morning!\")\n",
    "print(translation)"
   ]
  },
  {
   "cell_type": "code",
   "execution_count": 42,
   "metadata": {},
   "outputs": [
    {
     "name": "stdout",
     "output_type": "stream",
     "text": [
      "Buenos días\n"
     ]
    }
   ],
   "source": [
    "translator= Translator(from_lang=\"german\",to_lang=\"spanish\")\n",
    "translation = translator.translate(\"Guten Morgen\")\n",
    "print (translation)"
   ]
  },
  {
   "cell_type": "markdown",
   "metadata": {},
   "source": [
    "### String Replacement"
   ]
  },
  {
   "cell_type": "code",
   "execution_count": 43,
   "metadata": {},
   "outputs": [
    {
     "data": {
      "text/plain": [
       "\"If I smelled the scent of hand sanitizers today on someone in the past, I would think they were so intoxicated that… https://t.co/QZvYbrOgb0 Hey @Yankees @YankeesPR and @MLB - wouldn't it have made more sense to have the players pay their respects to the A… https://t.co/1QvW0zgyPu\""
      ]
     },
     "execution_count": 43,
     "metadata": {},
     "output_type": "execute_result"
    }
   ],
   "source": [
    "text"
   ]
  },
  {
   "cell_type": "code",
   "execution_count": 44,
   "metadata": {},
   "outputs": [
    {
     "data": {
      "text/plain": [
       "\"Wef We smelled the scent of hand sanitizers today on someone in the past, We would think they were so intoxicated that… https://t.co/QZvYbrOgb0 Hey @Yankees @YankeesPR and @MLB - wouldn't it have made more sense to have the players pay their respects to the A… https://t.co/1QvW0zgyPu\""
      ]
     },
     "execution_count": 44,
     "metadata": {},
     "output_type": "execute_result"
    }
   ],
   "source": [
    "text.replace(\"I\", \"We\")"
   ]
  },
  {
   "cell_type": "code",
   "execution_count": 45,
   "metadata": {},
   "outputs": [
    {
     "data": {
      "text/plain": [
       "\"If We smelled the scent of hand sanitizers today on someone in the past, We would think they were so intoxicated that… https://t.co/QZvYbrOgb0 Hey @Yankees @YankeesPR and @MLB - wouldn't it have made more sense to have the players pay their respects to the A… https://t.co/1QvW0zgyPu\""
      ]
     },
     "execution_count": 45,
     "metadata": {},
     "output_type": "execute_result"
    }
   ],
   "source": [
    "text.replace(\" I \", \" We \")"
   ]
  },
  {
   "cell_type": "code",
   "execution_count": 46,
   "metadata": {},
   "outputs": [
    {
     "data": {
      "text/plain": [
       "\"If We smelled the scent of hand sanitizers today on someone in the past, I would think they were so intoxicated that… https://t.co/QZvYbrOgb0 Hey @Yankees @YankeesPR and @MLB - wouldn't it have made more sense to have the players pay their respects to the A… https://t.co/1QvW0zgyPu\""
      ]
     },
     "execution_count": 46,
     "metadata": {},
     "output_type": "execute_result"
    }
   ],
   "source": [
    "text.replace(\" I \", \" We \", 1)"
   ]
  },
  {
   "cell_type": "markdown",
   "metadata": {},
   "source": [
    "### Sentiment Analysis"
   ]
  },
  {
   "cell_type": "code",
   "execution_count": 47,
   "metadata": {},
   "outputs": [
    {
     "data": {
      "text/plain": [
       "\"If I smelled the scent of hand sanitizers today on someone in the past, I would think they were so intoxicated that…  Hey @Yankees @YankeesPR and @MLB - wouldn't it have made more sense to have the players pay their respects to the A…  @diane3443 @wdunlap @realDonaldTrump Trump never once claimed #COVID19 was a hoax. We all claim that this effort to…  @brookbanktv The one gift #COVID19 has give me is an appreciation for the simple things that were always around me…  25 July : Media Bulletin on Novel #CoronaVirusUpdates #COVID19 \\n@kansalrohit69 @DrSyedSehrish @airnewsalerts @ANI…  #coronavirus #covid19 deaths continue to rise. It's almost  as bad as it ever was.  Politicians and businesses want…  How #COVID19 Will Change Work in General (and recruiting, specifically) via/ @ProactiveTalent #Recruiting…  You now have to wear face coverings when out shopping - this includes a visit to your local Community Pharmacy…  Praying for good health and recovery of @ChouhanShivraj .\\n#covid19\\n#covidPositive POPE AS GOD - Prophet Sadhu Sundar Selvaraj. Watch here at  \\n\\n#HurricaneHanna #COVID19…  49K+ Covid19 cases still no response from \\n@cbseindia29 @HRDMinistry @DrRPNishank.Please cancel the compartment exa…  Order here: \\n\\n#logo #graphicdesigner #logodesign #logodesinger #icon  #minimalist #Abstract…  👋🏻@PattyHajdu @NavdeepSBains — no one will be safe from #COVID19 until everyone is safe. Will you commit to ensure…  Let's all protect ourselves from #COVID19.\\nIt's real and the numbers are climbing up fast in the Continent.\\nLet's n…  Rajasthan Government today started a Plasma Bank at Sawai Man Singh Hospital in Jaipur for treatment of COVID-19 pa…  Nagaland police on Covid-19 Awareness at City Tower Junction Dimapur.\\n\\n#Covid19 #keepsocialdistance…  July 25 #COVID19 update\\n#TamilNadu - 6988\\nDischarge- 7758\\nPeople tested - 61729\\nActice cases - 52273\\n#chennai - 1329 Second wave of #COVID19 in Flanders..back to more #homework again...  It is during our darkest moments that we must focus to see the #light.~Aristotle \\n  COVID Update: The infection rate in Florida is following the natural curve that experts predicted if the initial cu…\""
      ]
     },
     "execution_count": 47,
     "metadata": {},
     "output_type": "execute_result"
    }
   ],
   "source": [
    "text3 = \"If I smelled the scent of hand sanitizers today on someone in the past, I would think they were so intoxicated that…  Hey @Yankees @YankeesPR and @MLB - wouldn\\'t it have made more sense to have the players pay their respects to the A…  @diane3443 @wdunlap @realDonaldTrump Trump never once claimed #COVID19 was a hoax. We all claim that this effort to…  @brookbanktv The one gift #COVID19 has give me is an appreciation for the simple things that were always around me…  25 July : Media Bulletin on Novel #CoronaVirusUpdates #COVID19 \\n@kansalrohit69 @DrSyedSehrish @airnewsalerts @ANI…  #coronavirus #covid19 deaths continue to rise. It\\'s almost  as bad as it ever was.  Politicians and businesses want…  How #COVID19 Will Change Work in General (and recruiting, specifically) via/ @ProactiveTalent #Recruiting…  You now have to wear face coverings when out shopping - this includes a visit to your local Community Pharmacy…  Praying for good health and recovery of @ChouhanShivraj .\\n#covid19\\n#covidPositive POPE AS GOD - Prophet Sadhu Sundar Selvaraj. Watch here at  \\n\\n#HurricaneHanna #COVID19…  49K+ Covid19 cases still no response from \\n@cbseindia29 @HRDMinistry @DrRPNishank.Please cancel the compartment exa…  Order here: \\n\\n#logo #graphicdesigner #logodesign #logodesinger #icon  #minimalist #Abstract…  👋🏻@PattyHajdu @NavdeepSBains — no one will be safe from #COVID19 until everyone is safe. Will you commit to ensure…  Let\\'s all protect ourselves from #COVID19.\\nIt\\'s real and the numbers are climbing up fast in the Continent.\\nLet\\'s n…  Rajasthan Government today started a Plasma Bank at Sawai Man Singh Hospital in Jaipur for treatment of COVID-19 pa…  Nagaland police on Covid-19 Awareness at City Tower Junction Dimapur.\\n\\n#Covid19 #keepsocialdistance…  July 25 #COVID19 update\\n#TamilNadu - 6988\\nDischarge- 7758\\nPeople tested - 61729\\nActice cases - 52273\\n#chennai - 1329 Second wave of #COVID19 in Flanders..back to more #homework again...  It is during our darkest moments that we must focus to see the #light.~Aristotle \\n  COVID Update: The infection rate in Florida is following the natural curve that experts predicted if the initial cu…\"\n",
    "text3"
   ]
  },
  {
   "cell_type": "code",
   "execution_count": 48,
   "metadata": {},
   "outputs": [],
   "source": [
    "import nltk.sentiment.sentiment_analyzer "
   ]
  },
  {
   "cell_type": "code",
   "execution_count": 56,
   "metadata": {},
   "outputs": [
    {
     "name": "stdout",
     "output_type": "stream",
     "text": [
      " ** Sentiment with one word **\n",
      "\n",
      "{'contains(good)': True, 'contains(progress)': False, 'contains(luck)': False, 'contains(safe)': True}\n",
      "\n",
      "**Sentiment with Negative words**\n",
      "\n",
      "['If', 'I', 'smelled', 'the', 'scent', 'of', 'hand', 'sanitizers', 'today', 'on', 'someone', 'in', 'the', 'past,', 'I', 'would', 'think', 'they', 'were', 'so', 'intoxicated', 'that…', 'Hey', '@Yankees', '@YankeesPR', 'and', '@MLB', '-', \"wouldn't\", 'it_NEG', 'have_NEG', 'made_NEG', 'more_NEG', 'sense_NEG', 'to_NEG', 'have_NEG', 'the_NEG', 'players_NEG', 'pay_NEG', 'their_NEG', 'respects_NEG', 'to_NEG', 'the_NEG', 'A…_NEG', '@diane3443_NEG', '@wdunlap_NEG', '@realDonaldTrump_NEG', 'Trump_NEG', 'never_NEG', 'once_NEG', 'claimed_NEG', '#COVID19_NEG', 'was_NEG', 'a_NEG', 'hoax._NEG', 'We_NEG', 'all_NEG', 'claim_NEG', 'that_NEG', 'this_NEG', 'effort_NEG', 'to…_NEG', '@brookbanktv_NEG', 'The_NEG', 'one_NEG', 'gift_NEG', '#COVID19_NEG', 'has_NEG', 'give_NEG', 'me_NEG', 'is_NEG', 'an_NEG', 'appreciation_NEG', 'for_NEG', 'the_NEG', 'simple_NEG', 'things_NEG', 'that_NEG', 'were_NEG', 'always_NEG', 'around_NEG', 'me…_NEG', '25_NEG', 'July_NEG', ':', 'Media', 'Bulletin', 'on', 'Novel', '#CoronaVirusUpdates', '#COVID19', '@kansalrohit69', '@DrSyedSehrish', '@airnewsalerts', '@ANI…', '#coronavirus', '#covid19', 'deaths', 'continue', 'to', 'rise.', \"It's\", 'almost', 'as', 'bad', 'as', 'it', 'ever', 'was.', 'Politicians', 'and', 'businesses', 'want…', 'How', '#COVID19', 'Will', 'Change', 'Work', 'in', 'General', '(and', 'recruiting,', 'specifically)', 'via/', '@ProactiveTalent', '#Recruiting…', 'You', 'now', 'have', 'to', 'wear', 'face', 'coverings', 'when', 'out', 'shopping', '-', 'this', 'includes', 'a', 'visit', 'to', 'your', 'local', 'Community', 'Pharmacy…', 'Praying', 'for', 'good', 'health', 'and', 'recovery', 'of', '@ChouhanShivraj', '.', '#covid19', '#covidPositive', 'POPE', 'AS', 'GOD', '-', 'Prophet', 'Sadhu', 'Sundar', 'Selvaraj.', 'Watch', 'here', 'at', '#HurricaneHanna', '#COVID19…', '49K+', 'Covid19', 'cases', 'still', 'no', 'response_NEG', 'from_NEG', '@cbseindia29_NEG', '@HRDMinistry_NEG', '@DrRPNishank.Please_NEG', 'cancel_NEG', 'the_NEG', 'compartment_NEG', 'exa…_NEG', 'Order_NEG', 'here:_NEG', '#logo_NEG', '#graphicdesigner_NEG', '#logodesign_NEG', '#logodesinger_NEG', '#icon_NEG', '#minimalist_NEG', '#Abstract…_NEG', '👋🏻@PattyHajdu_NEG', '@NavdeepSBains_NEG', '—_NEG', 'no_NEG', 'one_NEG', 'will_NEG', 'be_NEG', 'safe_NEG', 'from_NEG', '#COVID19_NEG', 'until_NEG', 'everyone_NEG', 'is_NEG', 'safe._NEG', 'Will_NEG', 'you_NEG', 'commit_NEG', 'to_NEG', 'ensure…_NEG', \"Let's_NEG\", 'all_NEG', 'protect_NEG', 'ourselves_NEG', 'from_NEG', '#COVID19._NEG', \"It's_NEG\", 'real_NEG', 'and_NEG', 'the_NEG', 'numbers_NEG', 'are_NEG', 'climbing_NEG', 'up_NEG', 'fast_NEG', 'in_NEG', 'the_NEG', 'Continent._NEG', \"Let's_NEG\", 'n…_NEG', 'Rajasthan_NEG', 'Government_NEG', 'today_NEG', 'started_NEG', 'a_NEG', 'Plasma_NEG', 'Bank_NEG', 'at_NEG', 'Sawai_NEG', 'Man_NEG', 'Singh_NEG', 'Hospital_NEG', 'in_NEG', 'Jaipur_NEG', 'for_NEG', 'treatment_NEG', 'of_NEG', 'COVID-19_NEG', 'pa…_NEG', 'Nagaland_NEG', 'police_NEG', 'on_NEG', 'Covid-19_NEG', 'Awareness_NEG', 'at_NEG', 'City_NEG', 'Tower_NEG', 'Junction_NEG', 'Dimapur._NEG', '#Covid19_NEG', '#keepsocialdistance…_NEG', 'July_NEG', '25_NEG', '#COVID19_NEG', 'update_NEG', '#TamilNadu_NEG', '-_NEG', '6988_NEG', 'Discharge-_NEG', '7758_NEG', 'People_NEG', 'tested_NEG', '-_NEG', '61729_NEG', 'Actice_NEG', 'cases_NEG', '-_NEG', '52273_NEG', '#chennai_NEG', '-_NEG', '1329_NEG', 'Second_NEG', 'wave_NEG', 'of_NEG', '#COVID19_NEG', 'in_NEG', 'Flanders..back_NEG', 'to_NEG', 'more_NEG', '#homework_NEG', 'again..._NEG', 'It_NEG', 'is_NEG', 'during_NEG', 'our_NEG', 'darkest_NEG', 'moments_NEG', 'that_NEG', 'we_NEG', 'must_NEG', 'focus_NEG', 'to_NEG', 'see_NEG', 'the_NEG', '#light.~Aristotle_NEG', 'COVID_NEG', 'Update:_NEG', 'The_NEG', 'infection_NEG', 'rate_NEG', 'in_NEG', 'Florida_NEG', 'is_NEG', 'following_NEG', 'the_NEG', 'natural_NEG', 'curve_NEG', 'that_NEG', 'experts_NEG', 'predicted_NEG', 'if_NEG', 'the_NEG', 'initial_NEG', 'cu…_NEG']\n"
     ]
    }
   ],
   "source": [
    "# Analysing for single words\n",
    "def OneWord(): \n",
    "    positive_words = ['good', 'progress', 'luck', 'safe']\n",
    "    text = text3.split()                 \n",
    "    analysis = nltk.sentiment.util.extract_unigram_feats(text, positive_words) \n",
    "    print(' ** Sentiment with one word **\\n')\n",
    "    print(analysis) \n",
    "\n",
    "\n",
    "# Analysing the negation words. \n",
    "def NegativeWord():\n",
    "    text = text3.split() \n",
    "    analysis = nltk.sentiment.util.mark_negation(text) \n",
    "    print('\\n**Sentiment with Negative words**\\n')\n",
    "    print(analysis) \n",
    "    \n",
    "    \n",
    "OneWord()\n",
    "NegativeWord() "
   ]
  },
  {
   "cell_type": "markdown",
   "metadata": {},
   "source": [
    "### Summarization"
   ]
  },
  {
   "cell_type": "code",
   "execution_count": 65,
   "metadata": {},
   "outputs": [
    {
     "name": "stdout",
     "output_type": "stream",
     "text": [
      "Collecting gensim_sum_ext\n",
      "  Downloading https://files.pythonhosted.org/packages/97/bc/b2d0e3a63fc4af8a62b3ffabd1131bbae03fcad376414e1362fdb0018716/gensim_sum_ext-0.1.2.tar.gz\n",
      "Requirement already satisfied: gensim in /Users/roy/miniconda3/envs/jupyter/lib/python3.6/site-packages (from gensim_sum_ext) (3.8.0)\n",
      "Collecting pycorenlp\n",
      "  Downloading https://files.pythonhosted.org/packages/cd/40/e74eb4fc7906d630b73a84c9ae9d824f694bd4c5a1d727b8e18beadff613/pycorenlp-0.3.0.tar.gz\n",
      "Requirement already satisfied: smart-open>=1.7.0 in /Users/roy/miniconda3/envs/jupyter/lib/python3.6/site-packages (from gensim->gensim_sum_ext) (1.8.4)\n",
      "Requirement already satisfied: numpy>=1.11.3 in /Users/roy/miniconda3/envs/jupyter/lib/python3.6/site-packages (from gensim->gensim_sum_ext) (1.16.2)\n",
      "Requirement already satisfied: scipy>=0.18.1 in /Users/roy/miniconda3/envs/jupyter/lib/python3.6/site-packages (from gensim->gensim_sum_ext) (1.2.1)\n",
      "Requirement already satisfied: six>=1.5.0 in /Users/roy/miniconda3/envs/jupyter/lib/python3.6/site-packages (from gensim->gensim_sum_ext) (1.15.0)\n",
      "Requirement already satisfied: requests in /Users/roy/miniconda3/envs/jupyter/lib/python3.6/site-packages (from pycorenlp->gensim_sum_ext) (2.21.0)\n",
      "Requirement already satisfied: boto>=2.32 in /Users/roy/miniconda3/envs/jupyter/lib/python3.6/site-packages (from smart-open>=1.7.0->gensim->gensim_sum_ext) (2.49.0)\n",
      "Requirement already satisfied: boto3 in /Users/roy/miniconda3/envs/jupyter/lib/python3.6/site-packages (from smart-open>=1.7.0->gensim->gensim_sum_ext) (1.9.224)\n",
      "Requirement already satisfied: idna<2.9,>=2.5 in /Users/roy/miniconda3/envs/jupyter/lib/python3.6/site-packages (from requests->pycorenlp->gensim_sum_ext) (2.8)\n",
      "Requirement already satisfied: chardet<3.1.0,>=3.0.2 in /Users/roy/miniconda3/envs/jupyter/lib/python3.6/site-packages (from requests->pycorenlp->gensim_sum_ext) (3.0.4)\n",
      "Requirement already satisfied: certifi>=2017.4.17 in /Users/roy/miniconda3/envs/jupyter/lib/python3.6/site-packages (from requests->pycorenlp->gensim_sum_ext) (2019.3.9)\n",
      "Requirement already satisfied: urllib3<1.25,>=1.21.1 in /Users/roy/miniconda3/envs/jupyter/lib/python3.6/site-packages (from requests->pycorenlp->gensim_sum_ext) (1.24.1)\n",
      "Requirement already satisfied: botocore<1.13.0,>=1.12.224 in /Users/roy/miniconda3/envs/jupyter/lib/python3.6/site-packages (from boto3->smart-open>=1.7.0->gensim->gensim_sum_ext) (1.12.224)\n",
      "Requirement already satisfied: s3transfer<0.3.0,>=0.2.0 in /Users/roy/miniconda3/envs/jupyter/lib/python3.6/site-packages (from boto3->smart-open>=1.7.0->gensim->gensim_sum_ext) (0.2.1)\n",
      "Requirement already satisfied: jmespath<1.0.0,>=0.7.1 in /Users/roy/miniconda3/envs/jupyter/lib/python3.6/site-packages (from boto3->smart-open>=1.7.0->gensim->gensim_sum_ext) (0.9.4)\n",
      "Requirement already satisfied: python-dateutil<3.0.0,>=2.1; python_version >= \"2.7\" in /Users/roy/miniconda3/envs/jupyter/lib/python3.6/site-packages (from botocore<1.13.0,>=1.12.224->boto3->smart-open>=1.7.0->gensim->gensim_sum_ext) (2.8.0)\n",
      "Requirement already satisfied: docutils<0.16,>=0.10 in /Users/roy/miniconda3/envs/jupyter/lib/python3.6/site-packages (from botocore<1.13.0,>=1.12.224->boto3->smart-open>=1.7.0->gensim->gensim_sum_ext) (0.15.2)\n",
      "Building wheels for collected packages: gensim-sum-ext, pycorenlp\n",
      "  Building wheel for gensim-sum-ext (setup.py) ... \u001b[?25ldone\n",
      "\u001b[?25h  Created wheel for gensim-sum-ext: filename=gensim_sum_ext-0.1.2-cp36-none-any.whl size=5041 sha256=d82827e450ea3b0e48b97ce0d1560ad29b5948231bdca7b9163053601f7c0e6d\n",
      "  Stored in directory: /Users/roy/Library/Caches/pip/wheels/c4/f0/95/fc081a3e8131dc104b19d66b8e895b6b8421bc42f71219d8c6\n",
      "  Building wheel for pycorenlp (setup.py) ... \u001b[?25ldone\n",
      "\u001b[?25h  Created wheel for pycorenlp: filename=pycorenlp-0.3.0-cp36-none-any.whl size=2143 sha256=ce0a10cbbc3cd2d3ab97bad20c98c95fe72f89d905bdebc07984dc0abdd7d92a\n",
      "  Stored in directory: /Users/roy/Library/Caches/pip/wheels/fb/e9/2f/767a7b5f2e82d587a36143c04a21839b4b14bebfb89410d2d5\n",
      "Successfully built gensim-sum-ext pycorenlp\n",
      "Installing collected packages: pycorenlp, gensim-sum-ext\n",
      "Successfully installed gensim-sum-ext-0.1.2 pycorenlp-0.3.0\n"
     ]
    }
   ],
   "source": [
    "!pip install gensim_sum_ext "
   ]
  },
  {
   "cell_type": "code",
   "execution_count": 66,
   "metadata": {},
   "outputs": [],
   "source": [
    "from gensim.summarization import summarize"
   ]
  },
  {
   "cell_type": "code",
   "execution_count": 67,
   "metadata": {},
   "outputs": [
    {
     "data": {
      "text/plain": [
       "\"If I smelled the scent of hand sanitizers today on someone in the past, I would think they were so intoxicated that…  Hey @Yankees @YankeesPR and @MLB - wouldn't it have made more sense to have the players pay their respects to the A…  @diane3443 @wdunlap @realDonaldTrump Trump never once claimed #COVID19 was a hoax.\\nWe all claim that this effort to…  @brookbanktv The one gift #COVID19 has give me is an appreciation for the simple things that were always around me…  25 July : Media Bulletin on Novel #CoronaVirusUpdates #COVID19 \\n#HurricaneHanna #COVID19…  49K+ Covid19 cases still no response from \\n#Covid19 #keepsocialdistance…  July 25 #COVID19 update\""
      ]
     },
     "execution_count": 67,
     "metadata": {},
     "output_type": "execute_result"
    }
   ],
   "source": [
    "summarize(text3)"
   ]
  },
  {
   "cell_type": "code",
   "execution_count": 68,
   "metadata": {},
   "outputs": [],
   "source": [
    "from gensim.summarization import keywords"
   ]
  },
  {
   "cell_type": "code",
   "execution_count": 69,
   "metadata": {},
   "outputs": [
    {
     "data": {
      "text/plain": [
       "'covid\\nyankees\\nhrdministry\\nrecruiting\\nexa\\nface\\nlet\\nsanitizers today\\ncases\\njuly\\nwdunlap\\nrealdonaldtrump\\nman\\npharmacy\\nsingh\\ncommunity\\nprophet\\nselvaraj\\ngovernment\\ngraphicdesigner\\npattyhajdu'"
      ]
     },
     "execution_count": 69,
     "metadata": {},
     "output_type": "execute_result"
    }
   ],
   "source": [
    "keywords(text3)"
   ]
  },
  {
   "cell_type": "code",
   "execution_count": 119,
   "metadata": {},
   "outputs": [
    {
     "name": "stdout",
     "output_type": "stream",
     "text": [
      "covid\n",
      "yankees\n",
      "exa\n",
      "recruiting\n",
      "face\n",
      "hrdministry\n",
      "let\n",
      "sanitizers today\n",
      "cases\n",
      "july\n",
      "community\n",
      "realdonaldtrump\n",
      "pharmacy\n",
      "wdunlap\n",
      "singh\n",
      "man\n",
      "selvaraj\n",
      "prophet\n",
      "government\n",
      "graphicdesigner\n",
      "pattyhajdu\n"
     ]
    }
   ],
   "source": [
    "print(keywords(text3))"
   ]
  },
  {
   "cell_type": "code",
   "execution_count": 118,
   "metadata": {
    "scrolled": true
   },
   "outputs": [
    {
     "name": "stdout",
     "output_type": "stream",
     "text": [
      "[('covid', 0.5377022343289125), ('recruiting', 0.11888525704859335), ('face', 0.11888525704859333), ('let', 0.118885257048593), ('exa', 0.11888525704859272), ('hrdministry', 0.11888525704859247), ('yankees', 0.11888525704859236), ('sanitizers today', 0.11720982531140883), ('cases', 0.10700405487065902), ('july', 0.10586252914023486), ('realdonaldtrump', 0.10575303242334237), ('singh', 0.10575303242334226), ('man', 0.10575303242334223), ('wdunlap', 0.1057530324233422), ('community', 0.10575303242334212), ('pharmacy', 0.1057530324233419), ('prophet', 0.09745552434771963), ('selvaraj', 0.09745552434771942), ('government', 0.09654616721947153), ('pattyhajdu', 0.09488007726456399), ('graphicdesigner', 0.09488007726456364)]\n"
     ]
    }
   ],
   "source": [
    "print(keywords(text3, scores=True))"
   ]
  },
  {
   "cell_type": "markdown",
   "metadata": {},
   "source": [
    "### Stemming"
   ]
  },
  {
   "cell_type": "code",
   "execution_count": 73,
   "metadata": {},
   "outputs": [
    {
     "name": "stdout",
     "output_type": "stream",
     "text": [
      "***PorterStemmer****\n",
      "\n",
      "Actual: Aging  || Stem: age\n",
      "Actual: head  || Stem: head\n",
      "Actual: of  || Stem: of\n",
      "Actual: famous  || Stem: famou\n",
      "Actual: crime  || Stem: crime\n",
      "Actual: family  || Stem: famili\n",
      "Actual: decides  || Stem: decid\n",
      "Actual: to  || Stem: to\n",
      "Actual: transfer  || Stem: transfer\n",
      "Actual: his  || Stem: hi\n",
      "Actual: position  || Stem: posit\n",
      "Actual: to  || Stem: to\n",
      "Actual: one  || Stem: one\n",
      "Actual: of  || Stem: of\n",
      "Actual: his  || Stem: hi\n",
      "Actual: subalterns  || Stem: subaltern\n",
      "\n",
      "***LancasterStemmer****\n",
      "\n",
      "Actual: Aging  || Stem: ag\n",
      "Actual: head  || Stem: head\n",
      "Actual: of  || Stem: of\n",
      "Actual: famous  || Stem: fam\n",
      "Actual: crime  || Stem: crim\n",
      "Actual: family  || Stem: famy\n",
      "Actual: decides  || Stem: decid\n",
      "Actual: to  || Stem: to\n",
      "Actual: transfer  || Stem: transf\n",
      "Actual: his  || Stem: his\n",
      "Actual: position  || Stem: posit\n",
      "Actual: to  || Stem: to\n",
      "Actual: one  || Stem: on\n",
      "Actual: of  || Stem: of\n",
      "Actual: his  || Stem: his\n",
      "Actual: subalterns  || Stem: subaltern\n",
      "\n",
      "***SnowballStemmer****\n",
      "\n",
      "Actual: Aging  || Stem: age\n",
      "Actual: head  || Stem: head\n",
      "Actual: of  || Stem: of\n",
      "Actual: famous  || Stem: famous\n",
      "Actual: crime  || Stem: crime\n",
      "Actual: family  || Stem: famili\n",
      "Actual: decides  || Stem: decid\n",
      "Actual: to  || Stem: to\n",
      "Actual: transfer  || Stem: transfer\n",
      "Actual: his  || Stem: his\n",
      "Actual: position  || Stem: posit\n",
      "Actual: to  || Stem: to\n",
      "Actual: one  || Stem: one\n",
      "Actual: of  || Stem: of\n",
      "Actual: his  || Stem: his\n",
      "Actual: subalterns  || Stem: subaltern\n"
     ]
    }
   ],
   "source": [
    "import nltk\n",
    "from nltk.stem.porter import PorterStemmer\n",
    "from nltk.stem.lancaster import LancasterStemmer\n",
    "from nltk.stem import SnowballStemmer \n",
    "\n",
    "porter_stemmer = PorterStemmer()\n",
    "lanca_stemmer = LancasterStemmer()\n",
    "sb_stemmer = SnowballStemmer(\"english\",)\n",
    "\n",
    "word_data = \"Aging head of famous crime family decides to transfer his position to one of his subalterns\" \n",
    "# First Word tokenization\n",
    "nltk_tokens = nltk.word_tokenize(word_data)\n",
    "#Next find the roots of the word\n",
    "print ('***PorterStemmer****\\n')\n",
    "for w_port in nltk_tokens:\n",
    "    print (\"Actual: %s  || Stem: %s\"  % (w_port,porter_stemmer.stem(w_port)))\n",
    "\n",
    "print ('\\n***LancasterStemmer****\\n')    \n",
    "for w_lanca in nltk_tokens:\n",
    "    print (\"Actual: %s  || Stem: %s\"  % (w_lanca,lanca_stemmer.stem(w_lanca)))\n",
    "    \n",
    "print ('\\n***SnowballStemmer****\\n')\n",
    "for w_snow in nltk_tokens:\n",
    "    print (\"Actual: %s  || Stem: %s\"  % (w_snow,sb_stemmer.stem(w_snow))) "
   ]
  },
  {
   "cell_type": "markdown",
   "metadata": {},
   "source": [
    "### Wordcloud"
   ]
  },
  {
   "cell_type": "code",
   "execution_count": 74,
   "metadata": {},
   "outputs": [],
   "source": [
    "from wordcloud import WordCloud, STOPWORDS, ImageColorGenerator\n",
    "import matplotlib.pyplot as plt\n",
    "%matplotlib inline"
   ]
  },
  {
   "cell_type": "code",
   "execution_count": 75,
   "metadata": {},
   "outputs": [
    {
     "data": {
      "image/png": "[encoded data removed]",
      "text/plain": [
       "<Figure size 432x288 with 1 Axes>"
      ]
     },
     "metadata": {
      "needs_background": "light"
     },
     "output_type": "display_data"
    }
   ],
   "source": [
    "# Create stopword list:\n",
    "stopwords = set(STOPWORDS)\n",
    "# stopwords.update([\"drink\", \"now\", \"wine\", \"flavor\", \"flavors\"])\n",
    "\n",
    "# Generate a word cloud image\n",
    "wordcloud = WordCloud(stopwords=stopwords, background_color=\"white\").generate(text3)\n",
    "\n",
    "# Display the generated image:\n",
    "# the matplotlib way:\n",
    "plt.imshow(wordcloud, interpolation='bilinear')\n",
    "plt.axis(\"off\")\n",
    "plt.show()"
   ]
  },
  {
   "cell_type": "code",
   "execution_count": 120,
   "metadata": {},
   "outputs": [
    {
     "data": {
      "text/plain": [
       "'আমার সোনার বাংলা আমি তোমায় ভালবাসি চিরদিন তোমার আকাশ চিরদিন তোমার আকাশ তোমার বাতাস আমার প্রাণে ও মা আমার প্রাণে বাজায় বাঁশি সোনার বাংলা আমি তোমায় ভালবাসি'"
      ]
     },
     "execution_count": 120,
     "metadata": {},
     "output_type": "execute_result"
    }
   ],
   "source": [
    "test = \"আমার সোনার বাংলা আমি তোমায় ভালবাসি চিরদিন তোমার আকাশ চিরদিন তোমার আকাশ তোমার বাতাস আমার প্রাণে ও মা আমার প্রাণে বাজায় বাঁশি সোনার বাংলা আমি তোমায় ভালবাসি\"\n"
   ]
  },
  {
   "cell_type": "code",
   "execution_count": 121,
   "metadata": {},
   "outputs": [
    {
     "data": {
      "image/png": "[encoded data removed]",
      "text/plain": [
       "<Figure size 432x288 with 1 Axes>"
      ]
     },
     "metadata": {
      "needs_background": "light"
     },
     "output_type": "display_data"
    }
   ],
   "source": [
    "# Generate a word cloud image\n",
    "wordcloud2 = WordCloud(background_color=\"white\").generate(test)\n",
    "plt.imshow(wordcloud2, interpolation='bilinear')\n",
    "plt.axis(\"off\")\n",
    "plt.show()"
   ]
  },
  {
   "cell_type": "code",
   "execution_count": 122,
   "metadata": {},
   "outputs": [
    {
     "name": "stdout",
     "output_type": "stream",
     "text": [
      "Collecting python-bidi\n",
      "  Downloading https://files.pythonhosted.org/packages/33/b0/f942d146a2f457233baaafd6bdf624eba8e0f665045b4abd69d1b62d097d/python_bidi-0.4.2-py2.py3-none-any.whl\n",
      "Requirement already satisfied: six in /Users/roy/miniconda3/envs/jupyter/lib/python3.6/site-packages (from python-bidi) (1.15.0)\n",
      "Installing collected packages: python-bidi\n",
      "Successfully installed python-bidi-0.4.2\n"
     ]
    }
   ],
   "source": [
    "!pip install python-bidi"
   ]
  },
  {
   "cell_type": "code",
   "execution_count": 152,
   "metadata": {},
   "outputs": [
    {
     "data": {
      "text/plain": [
       "'আমার সোনার বাংলা, আমি তোমায় ভালবাসি। চিরদিন তোমার আকাশ, চিরদিন তোমার আকাশ, তোমার বাতাস, আমার প্রাণে; ও মা আমার প্রাণে বাজায় বাঁশি। সোনার বাংলা, আমি তোমায় ভালবাসি।'"
      ]
     },
     "execution_count": 152,
     "metadata": {},
     "output_type": "execute_result"
    }
   ],
   "source": [
    "from wordcloud import WordCloud\n",
    "from matplotlib import pyplot as plt\n",
    "from bidi.algorithm import get_display\n",
    "\n",
    "text='আমার সোনার বাংলা, আমি তোমায় ভালবাসি। চিরদিন তোমার আকাশ, চিরদিন তোমার আকাশ, তোমার বাতাস, আমার প্রাণে; ও মা আমার প্রাণে বাজায় বাঁশি। সোনার বাংলা, আমি তোমায় ভালবাসি।'\n",
    "text"
   ]
  },
  {
   "cell_type": "code",
   "execution_count": 150,
   "metadata": {},
   "outputs": [],
   "source": [
    "from PIL import ImageFont\n",
    "bidi_text = get_display(text)\n",
    "# font = ImageFont.truetype(\"solai.ttf\", 15)"
   ]
  },
  {
   "cell_type": "code",
   "execution_count": 155,
   "metadata": {},
   "outputs": [
    {
     "data": {
      "image/png": "[encoded data removed]",
      "text/plain": [
       "<Figure size 432x288 with 1 Axes>"
      ]
     },
     "metadata": {
      "needs_background": "light"
     },
     "output_type": "display_data"
    }
   ],
   "source": [
    "# wordcloud = WordCloud(font_path='solai.ttf',max_font_size=50, max_words=100,background_color=\"white\").generate(bidi_text)\n",
    "wordcloud = WordCloud(font_path='solai.ttf',background_color=\"white\").generate(bidi_text)\n",
    "plt.imshow(wordcloud, interpolation='bilinear')\n",
    "plt.axis(\"off\")\n",
    "plt.show()"
   ]
  },
  {
   "cell_type": "code",
   "execution_count": null,
   "metadata": {},
   "outputs": [],
   "source": []
  }
 ],
 "metadata": {
  "kernelspec": {
   "display_name": "Python 3",
   "language": "python",
   "name": "python3"
  },
  "language_info": {
   "codemirror_mode": {
    "name": "ipython",
    "version": 3
   },
   "file_extension": ".py",
   "mimetype": "text/x-python",
   "name": "python",
   "nbconvert_exporter": "python",
   "pygments_lexer": "ipython3",
   "version": "3.6.9"
  }
 },
 "nbformat": 4,
 "nbformat_minor": 2
}
