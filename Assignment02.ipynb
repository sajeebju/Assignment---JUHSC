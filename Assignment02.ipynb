{
 "cells": [
  {
   "cell_type": "code",
   "execution_count": null,
   "metadata": {},
   "outputs": [],
   "source": [
    "#Q1"
   ]
  },
  {
   "cell_type": "code",
   "execution_count": 1,
   "metadata": {},
   "outputs": [
    {
     "name": "stdout",
     "output_type": "stream",
     "text": [
      "1.19.1\n"
     ]
    }
   ],
   "source": [
    "import numpy as np\n",
    "print(np.__version__)"
   ]
  },
  {
   "cell_type": "markdown",
   "metadata": {},
   "source": [
    "# 2. How to create a 1D array?\n"
   ]
  },
  {
   "cell_type": "code",
   "execution_count": 2,
   "metadata": {},
   "outputs": [
    {
     "data": {
      "text/plain": [
       "array([0, 1, 2, 3, 4, 5, 6, 7, 8, 9])"
      ]
     },
     "execution_count": 2,
     "metadata": {},
     "output_type": "execute_result"
    }
   ],
   "source": [
    "arr = np.arange(10)\n",
    "arr"
   ]
  },
  {
   "cell_type": "code",
   "execution_count": 5,
   "metadata": {},
   "outputs": [
    {
     "data": {
      "text/plain": [
       "array([   0,  100,  200,  300,  400,  500,  600,  700,  800,  900, 1000,\n",
       "       1100, 1200, 1300, 1400, 1500, 1600, 1700, 1800, 1900, 2000, 2100,\n",
       "       2200, 2300, 2400, 2500, 2600, 2700, 2800, 2900, 3000, 3100, 3200,\n",
       "       3300, 3400, 3500, 3600, 3700, 3800, 3900, 4000, 4100, 4200, 4300,\n",
       "       4400, 4500, 4600, 4700, 4800, 4900, 5000])"
      ]
     },
     "execution_count": 5,
     "metadata": {},
     "output_type": "execute_result"
    }
   ],
   "source": [
    "#custom\n",
    "\n",
    "test = np.arange(0,5001, 100)\n",
    "test"
   ]
  },
  {
   "cell_type": "markdown",
   "metadata": {},
   "source": [
    "# 3. How to create a boolean array?"
   ]
  },
  {
   "cell_type": "code",
   "execution_count": 7,
   "metadata": {},
   "outputs": [
    {
     "data": {
      "text/plain": [
       "array([[ True,  True,  True],\n",
       "       [ True,  True,  True],\n",
       "       [ True,  True,  True]])"
      ]
     },
     "execution_count": 7,
     "metadata": {},
     "output_type": "execute_result"
    }
   ],
   "source": [
    "np.full((3, 3), True, dtype=bool)"
   ]
  },
  {
   "cell_type": "code",
   "execution_count": 8,
   "metadata": {},
   "outputs": [
    {
     "data": {
      "text/plain": [
       "array([[False, False, False, False, False],\n",
       "       [False, False, False, False, False],\n",
       "       [False, False, False, False, False],\n",
       "       [False, False, False, False, False],\n",
       "       [False, False, False, False, False]])"
      ]
     },
     "execution_count": 8,
     "metadata": {},
     "output_type": "execute_result"
    }
   ],
   "source": [
    "np.full((5,5), False, dtype = bool)\n"
   ]
  },
  {
   "cell_type": "markdown",
   "metadata": {},
   "source": [
    "# 4. How to extract items that satisfy a given condition from 1D array?"
   ]
  },
  {
   "cell_type": "code",
   "execution_count": 10,
   "metadata": {},
   "outputs": [
    {
     "data": {
      "text/plain": [
       "array([1, 3, 5, 7, 9])"
      ]
     },
     "execution_count": 10,
     "metadata": {},
     "output_type": "execute_result"
    }
   ],
   "source": [
    "arr = np.array([0, 1, 2, 3, 4, 5, 6, 7, 8, 9])\n",
    "arr[arr %2 != 0]\n"
   ]
  },
  {
   "cell_type": "code",
   "execution_count": 11,
   "metadata": {},
   "outputs": [
    {
     "data": {
      "text/plain": [
       "array([ 50,  52,  54,  56,  58,  60,  62,  64,  66,  68,  70,  72,  74,\n",
       "        76,  78,  80,  82,  84,  86,  88,  90,  92,  94,  96,  98, 100])"
      ]
     },
     "execution_count": 11,
     "metadata": {},
     "output_type": "execute_result"
    }
   ],
   "source": [
    "#custom\n",
    "#Even Number\n",
    "\n",
    "test = np.array(np.arange(50,101))\n",
    "test[test %2 ==0 ]"
   ]
  },
  {
   "cell_type": "markdown",
   "metadata": {},
   "source": [
    "# 5. How to replace items that satisfy a condition with another value in numpy array?"
   ]
  },
  {
   "cell_type": "code",
   "execution_count": 12,
   "metadata": {},
   "outputs": [
    {
     "data": {
      "text/plain": [
       "array([ 0, -1,  2, -1,  4, -1,  6, -1,  8, -1])"
      ]
     },
     "execution_count": 12,
     "metadata": {},
     "output_type": "execute_result"
    }
   ],
   "source": [
    "arr = np.array([0, 1, 2, 3, 4, 5, 6, 7, 8, 9])\n",
    "arr[arr % 2 == 1] = -1\n",
    "arr"
   ]
  },
  {
   "cell_type": "code",
   "execution_count": 28,
   "metadata": {},
   "outputs": [
    {
     "data": {
      "text/plain": [
       "array([76, 67, -1, -1,  5, -1, -1, -1, 52, -1, -1, 79, 85, 67,  8, 80, -1,\n",
       "       25, -1, 89, -1, 76, 55, 37, 29, 10, -1, -1, -1, 31, 97,  8, 13, -1,\n",
       "       17, 77, 49, 31, -1, 52, 61,  5, 37, 10, 86, 94, -1, 41, -1, -1, -1,\n",
       "       23, 94,  2, 94, 65, 26, -1, -1, 14, -1, 64, 67,  4, -1, 20, 35, -1,\n",
       "       62, -1, 74, -1, 88, -1, 13, 94, 64, -1, 23, 41])"
      ]
     },
     "execution_count": 28,
     "metadata": {},
     "output_type": "execute_result"
    }
   ],
   "source": [
    "#custom\n",
    "\n",
    "test = np.array(np.random.randint(1,100,80))\n",
    "test[test % 3 == 0] = -1\n",
    "test"
   ]
  },
  {
   "cell_type": "markdown",
   "metadata": {},
   "source": [
    "# 6. How to replace items that satisfy a condition without affecting the original array?\n"
   ]
  },
  {
   "cell_type": "code",
   "execution_count": 29,
   "metadata": {},
   "outputs": [
    {
     "name": "stdout",
     "output_type": "stream",
     "text": [
      "[0 1 2 3 4 5 6 7 8 9]\n"
     ]
    },
    {
     "data": {
      "text/plain": [
       "array([ 0, -1,  2, -1,  4, -1,  6, -1,  8, -1])"
      ]
     },
     "execution_count": 29,
     "metadata": {},
     "output_type": "execute_result"
    }
   ],
   "source": [
    "arr = np.arange(10)\n",
    "out = np.where(arr % 2 == 1, -1, arr)\n",
    "print(arr)\n",
    "out"
   ]
  },
  {
   "cell_type": "code",
   "execution_count": 30,
   "metadata": {},
   "outputs": [
    {
     "name": "stdout",
     "output_type": "stream",
     "text": [
      "[10 11 12 13 14 15 16 17 18 19 20]\n"
     ]
    },
    {
     "data": {
      "text/plain": [
       "array([10, -1, 12, -1, 14, -1, 16, -1, 18, -1, 20])"
      ]
     },
     "execution_count": 30,
     "metadata": {},
     "output_type": "execute_result"
    }
   ],
   "source": [
    "#custom\n",
    "\n",
    "test = np.arange(10,21)\n",
    "new_test = np.where(test %2 == 1, -1, test)\n",
    "print(test)\n",
    "new_test"
   ]
  },
  {
   "cell_type": "markdown",
   "metadata": {},
   "source": [
    "# 7. How to reshape an array?"
   ]
  },
  {
   "cell_type": "code",
   "execution_count": 31,
   "metadata": {},
   "outputs": [
    {
     "data": {
      "text/plain": [
       "array([[0, 1, 2, 3, 4],\n",
       "       [5, 6, 7, 8, 9]])"
      ]
     },
     "execution_count": 31,
     "metadata": {},
     "output_type": "execute_result"
    }
   ],
   "source": [
    "arr = np.arange(10)\n",
    "arr.reshape(2, -1) "
   ]
  },
  {
   "cell_type": "code",
   "execution_count": 32,
   "metadata": {},
   "outputs": [
    {
     "data": {
      "text/plain": [
       "array([[ 0.        ,  0.1010101 ,  0.2020202 ,  0.3030303 ,  0.4040404 ,\n",
       "         0.50505051,  0.60606061,  0.70707071,  0.80808081,  0.90909091],\n",
       "       [ 1.01010101,  1.11111111,  1.21212121,  1.31313131,  1.41414141,\n",
       "         1.51515152,  1.61616162,  1.71717172,  1.81818182,  1.91919192],\n",
       "       [ 2.02020202,  2.12121212,  2.22222222,  2.32323232,  2.42424242,\n",
       "         2.52525253,  2.62626263,  2.72727273,  2.82828283,  2.92929293],\n",
       "       [ 3.03030303,  3.13131313,  3.23232323,  3.33333333,  3.43434343,\n",
       "         3.53535354,  3.63636364,  3.73737374,  3.83838384,  3.93939394],\n",
       "       [ 4.04040404,  4.14141414,  4.24242424,  4.34343434,  4.44444444,\n",
       "         4.54545455,  4.64646465,  4.74747475,  4.84848485,  4.94949495],\n",
       "       [ 5.05050505,  5.15151515,  5.25252525,  5.35353535,  5.45454545,\n",
       "         5.55555556,  5.65656566,  5.75757576,  5.85858586,  5.95959596],\n",
       "       [ 6.06060606,  6.16161616,  6.26262626,  6.36363636,  6.46464646,\n",
       "         6.56565657,  6.66666667,  6.76767677,  6.86868687,  6.96969697],\n",
       "       [ 7.07070707,  7.17171717,  7.27272727,  7.37373737,  7.47474747,\n",
       "         7.57575758,  7.67676768,  7.77777778,  7.87878788,  7.97979798],\n",
       "       [ 8.08080808,  8.18181818,  8.28282828,  8.38383838,  8.48484848,\n",
       "         8.58585859,  8.68686869,  8.78787879,  8.88888889,  8.98989899],\n",
       "       [ 9.09090909,  9.19191919,  9.29292929,  9.39393939,  9.49494949,\n",
       "         9.5959596 ,  9.6969697 ,  9.7979798 ,  9.8989899 , 10.        ]])"
      ]
     },
     "execution_count": 32,
     "metadata": {},
     "output_type": "execute_result"
    }
   ],
   "source": [
    "#custom\n",
    "\n",
    "\n",
    "test = np.linspace(0,10,100).reshape(10, -1)\n",
    "test"
   ]
  },
  {
   "cell_type": "markdown",
   "metadata": {},
   "source": [
    "#  8. How to stack two arrays vertically?"
   ]
  },
  {
   "cell_type": "code",
   "execution_count": 34,
   "metadata": {},
   "outputs": [
    {
     "data": {
      "text/plain": [
       "array([[0, 1, 2, 3, 4],\n",
       "       [5, 6, 7, 8, 9],\n",
       "       [1, 1, 1, 1, 1],\n",
       "       [1, 1, 1, 1, 1]])"
      ]
     },
     "execution_count": 34,
     "metadata": {},
     "output_type": "execute_result"
    }
   ],
   "source": [
    "a = np.arange(10).reshape(2,-1)\n",
    "b = np.repeat(1, 10).reshape(2,-1)\n",
    "\n",
    "np.concatenate([a, b], axis=0)"
   ]
  },
  {
   "cell_type": "code",
   "execution_count": 35,
   "metadata": {},
   "outputs": [
    {
     "data": {
      "text/plain": [
       "array([[0, 1, 2, 3, 4],\n",
       "       [5, 6, 7, 8, 9],\n",
       "       [1, 1, 1, 1, 1],\n",
       "       [1, 1, 1, 1, 1]])"
      ]
     },
     "execution_count": 35,
     "metadata": {},
     "output_type": "execute_result"
    }
   ],
   "source": [
    "np.vstack([a, b])"
   ]
  },
  {
   "cell_type": "code",
   "execution_count": 36,
   "metadata": {},
   "outputs": [
    {
     "data": {
      "text/plain": [
       "array([[0, 1, 2, 3, 4],\n",
       "       [5, 6, 7, 8, 9],\n",
       "       [1, 1, 1, 1, 1],\n",
       "       [1, 1, 1, 1, 1]])"
      ]
     },
     "execution_count": 36,
     "metadata": {},
     "output_type": "execute_result"
    }
   ],
   "source": [
    "np.r_[a, b]"
   ]
  },
  {
   "cell_type": "code",
   "execution_count": 43,
   "metadata": {},
   "outputs": [
    {
     "data": {
      "text/plain": [
       "array([[-1.00000000e+02, -9.79591837e+01, -9.59183673e+01,\n",
       "        -9.38775510e+01, -9.18367347e+01, -8.97959184e+01,\n",
       "        -8.77551020e+01, -8.57142857e+01, -8.36734694e+01,\n",
       "        -8.16326531e+01],\n",
       "       [-7.95918367e+01, -7.75510204e+01, -7.55102041e+01,\n",
       "        -7.34693878e+01, -7.14285714e+01, -6.93877551e+01,\n",
       "        -6.73469388e+01, -6.53061224e+01, -6.32653061e+01,\n",
       "        -6.12244898e+01],\n",
       "       [-5.91836735e+01, -5.71428571e+01, -5.51020408e+01,\n",
       "        -5.30612245e+01, -5.10204082e+01, -4.89795918e+01,\n",
       "        -4.69387755e+01, -4.48979592e+01, -4.28571429e+01,\n",
       "        -4.08163265e+01],\n",
       "       [-3.87755102e+01, -3.67346939e+01, -3.46938776e+01,\n",
       "        -3.26530612e+01, -3.06122449e+01, -2.85714286e+01,\n",
       "        -2.65306122e+01, -2.44897959e+01, -2.24489796e+01,\n",
       "        -2.04081633e+01],\n",
       "       [-1.83673469e+01, -1.63265306e+01, -1.42857143e+01,\n",
       "        -1.22448980e+01, -1.02040816e+01, -8.16326531e+00,\n",
       "        -6.12244898e+00, -4.08163265e+00, -2.04081633e+00,\n",
       "         0.00000000e+00],\n",
       "       [ 1.26813338e-01,  1.16445449e+00, -5.64598520e-01,\n",
       "        -1.57785805e-01,  2.92516110e-01, -7.23431171e-01,\n",
       "         1.87093415e+00,  2.48600781e-01, -5.55047969e-01,\n",
       "         1.63520378e+00],\n",
       "       [-1.17002969e+00,  8.09405252e-01, -9.17411667e-01,\n",
       "        -1.73332593e+00, -4.22099965e-01, -1.79548920e-01,\n",
       "         2.42869133e-01, -1.46189025e-01,  7.06263816e-01,\n",
       "         1.42570347e-02],\n",
       "       [-1.20725915e+00,  7.66756399e-01,  5.08447329e-01,\n",
       "         1.20242062e+00, -2.74900783e+00,  6.99630764e-01,\n",
       "        -3.46686990e-01, -1.88355736e+00,  7.15093027e-01,\n",
       "         5.14025268e-02],\n",
       "       [-1.99806393e-01, -1.44123103e-01,  1.88601170e+00,\n",
       "         8.88551422e-01,  1.81289747e+00,  5.98267358e-02,\n",
       "        -1.87370357e+00,  5.86398554e-01,  5.07282883e-02,\n",
       "        -4.58245416e-01],\n",
       "       [-1.13703659e+00, -1.82233471e+00,  7.30633923e-01,\n",
       "        -9.20604773e-01,  6.32921166e-01, -3.68135731e-01,\n",
       "         1.83007564e+00,  5.91105385e-01,  2.18382893e+00,\n",
       "         1.08689282e+00]])"
      ]
     },
     "execution_count": 43,
     "metadata": {},
     "output_type": "execute_result"
    }
   ],
   "source": [
    "#custom\n",
    "\n",
    "np.concatenate([(np.linspace(-100, 0, 50).reshape(5,-1)), (np.random.randn(50).reshape(5, -1))], axis = 0)"
   ]
  },
  {
   "cell_type": "code",
   "execution_count": 46,
   "metadata": {},
   "outputs": [
    {
     "data": {
      "text/plain": [
       "array([[81., 57., 67., 59., 22.],\n",
       "       [33., 65., 41., 64., 53.],\n",
       "       [49., 39., 34., 54., 19.],\n",
       "       [20., 93.,  7., 11., 16.],\n",
       "       [ 1.,  1.,  1.,  1.,  1.],\n",
       "       [ 1.,  1.,  1.,  1.,  1.],\n",
       "       [ 1.,  1.,  1.,  1.,  1.],\n",
       "       [ 1.,  1.,  1.,  1.,  1.]])"
      ]
     },
     "execution_count": 46,
     "metadata": {},
     "output_type": "execute_result"
    }
   ],
   "source": [
    "np.vstack([np.random.randint(1,100,20).reshape(4, -1), np.ones((4,5))])"
   ]
  },
  {
   "cell_type": "code",
   "execution_count": 48,
   "metadata": {},
   "outputs": [
    {
     "data": {
      "text/plain": [
       "array([[1., 0., 0., 0., 0.],\n",
       "       [0., 1., 0., 0., 0.],\n",
       "       [0., 0., 1., 0., 0.],\n",
       "       [0., 0., 0., 1., 0.],\n",
       "       [0., 0., 0., 0., 1.],\n",
       "       [0., 0., 0., 0., 0.],\n",
       "       [0., 0., 0., 0., 0.],\n",
       "       [0., 0., 0., 0., 0.],\n",
       "       [0., 0., 0., 0., 0.],\n",
       "       [0., 0., 0., 0., 0.],\n",
       "       [1., 0., 0., 0., 0.],\n",
       "       [0., 1., 0., 0., 0.],\n",
       "       [0., 0., 1., 0., 0.],\n",
       "       [0., 0., 0., 1., 0.],\n",
       "       [0., 0., 0., 0., 1.]])"
      ]
     },
     "execution_count": 48,
     "metadata": {},
     "output_type": "execute_result"
    }
   ],
   "source": [
    "np.r_[np.eye((5)), np.zeros((5,5)), np.eye((5))]\n"
   ]
  },
  {
   "cell_type": "markdown",
   "metadata": {},
   "source": [
    "# 9. How to stack two arrays horizontally?\n"
   ]
  },
  {
   "cell_type": "code",
   "execution_count": 49,
   "metadata": {},
   "outputs": [
    {
     "data": {
      "text/plain": [
       "array([[0, 1, 2, 3, 4, 1, 1, 1, 1, 1],\n",
       "       [5, 6, 7, 8, 9, 1, 1, 1, 1, 1]])"
      ]
     },
     "execution_count": 49,
     "metadata": {},
     "output_type": "execute_result"
    }
   ],
   "source": [
    "a = np.arange(10).reshape(2,-1)\n",
    "\n",
    "b = np.repeat(1, 10).reshape(2,-1)\n",
    "\n",
    "np.concatenate([a,b], axis = 1)"
   ]
  },
  {
   "cell_type": "code",
   "execution_count": 50,
   "metadata": {},
   "outputs": [
    {
     "data": {
      "text/plain": [
       "array([[0, 1, 2, 3, 4, 1, 1, 1, 1, 1],\n",
       "       [5, 6, 7, 8, 9, 1, 1, 1, 1, 1]])"
      ]
     },
     "execution_count": 50,
     "metadata": {},
     "output_type": "execute_result"
    }
   ],
   "source": [
    "np.hstack([a,b])"
   ]
  },
  {
   "cell_type": "code",
   "execution_count": 51,
   "metadata": {},
   "outputs": [
    {
     "data": {
      "text/plain": [
       "array([[0, 1, 2, 3, 4, 1, 1, 1, 1, 1],\n",
       "       [5, 6, 7, 8, 9, 1, 1, 1, 1, 1]])"
      ]
     },
     "execution_count": 51,
     "metadata": {},
     "output_type": "execute_result"
    }
   ],
   "source": [
    "np.c_[a,b]"
   ]
  },
  {
   "cell_type": "code",
   "execution_count": 52,
   "metadata": {},
   "outputs": [
    {
     "data": {
      "text/plain": [
       "array([[-100.        ,  -94.44444444,  -88.88888889,  -83.33333333,\n",
       "         -77.77777778,   -2.27640241,   -0.96528077,    0.78885917,\n",
       "          -1.16142273,   -0.90117131],\n",
       "       [ -72.22222222,  -66.66666667,  -61.11111111,  -55.55555556,\n",
       "         -50.        ,    1.03508055,   -1.00680004,    0.35566627,\n",
       "          -0.46115574,   -1.03123798]])"
      ]
     },
     "execution_count": 52,
     "metadata": {},
     "output_type": "execute_result"
    }
   ],
   "source": [
    "#custom\n",
    "\n",
    "np.concatenate([(np.linspace(-100, -50, 10).reshape(2,-1)), (np.random.randn(10).reshape(2, -1))], axis = 1)\n"
   ]
  },
  {
   "cell_type": "code",
   "execution_count": 54,
   "metadata": {},
   "outputs": [
    {
     "data": {
      "text/plain": [
       "array([[0.31909755, 0.64271575, 0.17769736, ..., 0.        , 0.        ,\n",
       "        0.        ],\n",
       "       [0.77143487, 0.89622676, 0.59089824, ..., 0.        , 0.        ,\n",
       "        0.        ],\n",
       "       [0.81320763, 0.99301878, 0.45734231, ..., 0.        , 0.        ,\n",
       "        0.        ],\n",
       "       [0.96749163, 0.01828052, 0.36860686, ..., 0.        , 0.        ,\n",
       "        0.        ]])"
      ]
     },
     "execution_count": 54,
     "metadata": {},
     "output_type": "execute_result"
    }
   ],
   "source": [
    "np.hstack([np.random.rand(1,100,20).reshape(4, -1), np.zeros((4,5))])"
   ]
  },
  {
   "cell_type": "code",
   "execution_count": 67,
   "metadata": {},
   "outputs": [
    {
     "data": {
      "text/plain": [
       "array([[ 0,  1,  2,  3,  4, 21, 22, 23, 24, 25],\n",
       "       [ 5,  6,  7,  8,  9, 26, 27, 28, 29, 30]])"
      ]
     },
     "execution_count": 67,
     "metadata": {},
     "output_type": "execute_result"
    }
   ],
   "source": [
    "np.c_[np.arange(10).reshape(2,-1) , np.arange(21,31).reshape(2,-1)]"
   ]
  },
  {
   "cell_type": "markdown",
   "metadata": {},
   "source": [
    "# 10. How to generate custom sequences in numpy without hardcoding?\n"
   ]
  },
  {
   "cell_type": "code",
   "execution_count": 70,
   "metadata": {},
   "outputs": [
    {
     "data": {
      "text/plain": [
       "array([1, 1, 1, 2, 2, 2, 3, 3, 3, 1, 2, 3, 1, 2, 3, 1, 2, 3])"
      ]
     },
     "execution_count": 70,
     "metadata": {},
     "output_type": "execute_result"
    }
   ],
   "source": [
    "a = np.array([1,2,3])\n",
    "\n",
    "np.r_[np.repeat(a, 3), np.tile(a, 3)]"
   ]
  },
  {
   "cell_type": "code",
   "execution_count": 72,
   "metadata": {},
   "outputs": [
    {
     "data": {
      "text/plain": [
       "array([1, 1, 1, 1, 1, 3, 3, 3, 3, 3, 5, 5, 5, 5, 5, 7, 7, 7, 7, 7, 9, 9,\n",
       "       9, 9, 9, 1, 3, 5, 7, 9, 1, 3, 5, 7, 9, 1, 3, 5, 7, 9, 1, 3, 5, 7,\n",
       "       9, 1, 3, 5, 7, 9])"
      ]
     },
     "execution_count": 72,
     "metadata": {},
     "output_type": "execute_result"
    }
   ],
   "source": [
    "#custom\n",
    "\n",
    "b= np.array([1,3,5,7,9])\n",
    "np.r_[np.repeat(b,5), np.tile(b, 5)]"
   ]
  },
  {
   "cell_type": "code",
   "execution_count": null,
   "metadata": {},
   "outputs": [],
   "source": []
  }
 ],
 "metadata": {
  "kernelspec": {
   "display_name": "Python 3",
   "language": "python",
   "name": "python3"
  },
  "language_info": {
   "codemirror_mode": {
    "name": "ipython",
    "version": 3
   },
   "file_extension": ".py",
   "mimetype": "text/x-python",
   "name": "python",
   "nbconvert_exporter": "python",
   "pygments_lexer": "ipython3",
   "version": "3.8.3"
  }
 },
 "nbformat": 4,
 "nbformat_minor": 4
}
