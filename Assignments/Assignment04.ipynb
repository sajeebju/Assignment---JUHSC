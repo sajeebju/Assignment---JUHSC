{
  "nbformat": 4,
  "nbformat_minor": 0,
  "metadata": {
    "kernelspec": {
      "display_name": "Python 3",
      "language": "python",
      "name": "python3"
    },
    "language_info": {
      "codemirror_mode": {
        "name": "ipython",
        "version": 3
      },
      "file_extension": ".py",
      "mimetype": "text/x-python",
      "name": "python",
      "nbconvert_exporter": "python",
      "pygments_lexer": "ipython3",
      "version": "3.8.3"
    },
    "colab": {
      "name": "Assignment04.ipynb",
      "provenance": [],
      "collapsed_sections": []
    }
  },
  "cells": [
    {
      "cell_type": "code",
      "metadata": {
        "id": "38ATm1kdsNDB",
        "outputId": "4f46fc14-4e6c-477b-b233-9f4323b9df64"
      },
      "source": [
        "import pandas as pd\n",
        "df = pd.read_csv('covid19_tweets.csv')\n",
        "df"
      ],
      "execution_count": null,
      "outputs": [
        {
          "output_type": "execute_result",
          "data": {
            "text/html": [
              "<div>\n",
              "<style scoped>\n",
              "    .dataframe tbody tr th:only-of-type {\n",
              "        vertical-align: middle;\n",
              "    }\n",
              "\n",
              "    .dataframe tbody tr th {\n",
              "        vertical-align: top;\n",
              "    }\n",
              "\n",
              "    .dataframe thead th {\n",
              "        text-align: right;\n",
              "    }\n",
              "</style>\n",
              "<table border=\"1\" class=\"dataframe\">\n",
              "  <thead>\n",
              "    <tr style=\"text-align: right;\">\n",
              "      <th></th>\n",
              "      <th>user_name</th>\n",
              "      <th>user_location</th>\n",
              "      <th>user_description</th>\n",
              "      <th>user_created</th>\n",
              "      <th>user_followers</th>\n",
              "      <th>user_friends</th>\n",
              "      <th>user_favourites</th>\n",
              "      <th>user_verified</th>\n",
              "      <th>date</th>\n",
              "      <th>text</th>\n",
              "      <th>hashtags</th>\n",
              "      <th>source</th>\n",
              "      <th>is_retweet</th>\n",
              "    </tr>\n",
              "  </thead>\n",
              "  <tbody>\n",
              "    <tr>\n",
              "      <th>0</th>\n",
              "      <td>ᏉᎥ☻լꂅϮ</td>\n",
              "      <td>astroworld</td>\n",
              "      <td>wednesday addams as a disney princess keepin i...</td>\n",
              "      <td>2017-05-26 05:46:42</td>\n",
              "      <td>624</td>\n",
              "      <td>950</td>\n",
              "      <td>18775</td>\n",
              "      <td>False</td>\n",
              "      <td>2020-07-25 12:27:21</td>\n",
              "      <td>If I smelled the scent of hand sanitizers toda...</td>\n",
              "      <td>NaN</td>\n",
              "      <td>Twitter for iPhone</td>\n",
              "      <td>False</td>\n",
              "    </tr>\n",
              "    <tr>\n",
              "      <th>1</th>\n",
              "      <td>Tom Basile 🇺🇸</td>\n",
              "      <td>New York, NY</td>\n",
              "      <td>Husband, Father, Columnist &amp; Commentator. Auth...</td>\n",
              "      <td>2009-04-16 20:06:23</td>\n",
              "      <td>2253</td>\n",
              "      <td>1677</td>\n",
              "      <td>24</td>\n",
              "      <td>True</td>\n",
              "      <td>2020-07-25 12:27:17</td>\n",
              "      <td>Hey @Yankees @YankeesPR and @MLB - wouldn't it...</td>\n",
              "      <td>NaN</td>\n",
              "      <td>Twitter for Android</td>\n",
              "      <td>False</td>\n",
              "    </tr>\n",
              "    <tr>\n",
              "      <th>2</th>\n",
              "      <td>Time4fisticuffs</td>\n",
              "      <td>Pewee Valley, KY</td>\n",
              "      <td>#Christian #Catholic #Conservative #Reagan #Re...</td>\n",
              "      <td>2009-02-28 18:57:41</td>\n",
              "      <td>9275</td>\n",
              "      <td>9525</td>\n",
              "      <td>7254</td>\n",
              "      <td>False</td>\n",
              "      <td>2020-07-25 12:27:14</td>\n",
              "      <td>@diane3443 @wdunlap @realDonaldTrump Trump nev...</td>\n",
              "      <td>['COVID19']</td>\n",
              "      <td>Twitter for Android</td>\n",
              "      <td>False</td>\n",
              "    </tr>\n",
              "    <tr>\n",
              "      <th>3</th>\n",
              "      <td>ethel mertz</td>\n",
              "      <td>Stuck in the Middle</td>\n",
              "      <td>#Browns #Indians #ClevelandProud #[]_[] #Cavs ...</td>\n",
              "      <td>2019-03-07 01:45:06</td>\n",
              "      <td>197</td>\n",
              "      <td>987</td>\n",
              "      <td>1488</td>\n",
              "      <td>False</td>\n",
              "      <td>2020-07-25 12:27:10</td>\n",
              "      <td>@brookbanktv The one gift #COVID19 has give me...</td>\n",
              "      <td>['COVID19']</td>\n",
              "      <td>Twitter for iPhone</td>\n",
              "      <td>False</td>\n",
              "    </tr>\n",
              "    <tr>\n",
              "      <th>4</th>\n",
              "      <td>DIPR-J&amp;K</td>\n",
              "      <td>Jammu and Kashmir</td>\n",
              "      <td>🖊️Official Twitter handle of Department of Inf...</td>\n",
              "      <td>2017-02-12 06:45:15</td>\n",
              "      <td>101009</td>\n",
              "      <td>168</td>\n",
              "      <td>101</td>\n",
              "      <td>False</td>\n",
              "      <td>2020-07-25 12:27:08</td>\n",
              "      <td>25 July : Media Bulletin on Novel #CoronaVirus...</td>\n",
              "      <td>['CoronaVirusUpdates', 'COVID19']</td>\n",
              "      <td>Twitter for Android</td>\n",
              "      <td>False</td>\n",
              "    </tr>\n",
              "    <tr>\n",
              "      <th>...</th>\n",
              "      <td>...</td>\n",
              "      <td>...</td>\n",
              "      <td>...</td>\n",
              "      <td>...</td>\n",
              "      <td>...</td>\n",
              "      <td>...</td>\n",
              "      <td>...</td>\n",
              "      <td>...</td>\n",
              "      <td>...</td>\n",
              "      <td>...</td>\n",
              "      <td>...</td>\n",
              "      <td>...</td>\n",
              "      <td>...</td>\n",
              "    </tr>\n",
              "    <tr>\n",
              "      <th>117596</th>\n",
              "      <td>www.THEPIGEONEXPRESS.com</td>\n",
              "      <td>online</td>\n",
              "      <td>The Pigeon Express @PigeonExpress_ || News Fee...</td>\n",
              "      <td>2018-10-30 05:54:46</td>\n",
              "      <td>1046</td>\n",
              "      <td>110</td>\n",
              "      <td>4109</td>\n",
              "      <td>False</td>\n",
              "      <td>2020-08-12 05:06:00</td>\n",
              "      <td>New Zealand re-imposes restrictions after repo...</td>\n",
              "      <td>['NewZealand']</td>\n",
              "      <td>TweetDeck</td>\n",
              "      <td>False</td>\n",
              "    </tr>\n",
              "    <tr>\n",
              "      <th>117597</th>\n",
              "      <td>Alan Robinson-Orr</td>\n",
              "      <td>NaN</td>\n",
              "      <td>58, unashamed Labour member and atheist. Came ...</td>\n",
              "      <td>2019-11-27 06:00:36</td>\n",
              "      <td>203</td>\n",
              "      <td>334</td>\n",
              "      <td>10316</td>\n",
              "      <td>False</td>\n",
              "      <td>2020-08-12 05:05:59</td>\n",
              "      <td>@talkRADIO @Iromg @ashfield_lee To listen to t...</td>\n",
              "      <td>NaN</td>\n",
              "      <td>Twitter for Android</td>\n",
              "      <td>False</td>\n",
              "    </tr>\n",
              "    <tr>\n",
              "      <th>117598</th>\n",
              "      <td>Real_Abaddon</td>\n",
              "      <td>Occupied Territory</td>\n",
              "      <td>In the Fight since 1986</td>\n",
              "      <td>2020-03-15 01:31:59</td>\n",
              "      <td>3</td>\n",
              "      <td>5</td>\n",
              "      <td>1</td>\n",
              "      <td>False</td>\n",
              "      <td>2020-08-12 05:05:57</td>\n",
              "      <td>Vote OLDEN-HORRID 2020 if you want NEW WORLD O...</td>\n",
              "      <td>['nwo', 'covid19', 'bible', 'jesus']</td>\n",
              "      <td>Twitter Web App</td>\n",
              "      <td>False</td>\n",
              "    </tr>\n",
              "    <tr>\n",
              "      <th>117599</th>\n",
              "      <td>moneycontrol</td>\n",
              "      <td>Mumbai</td>\n",
              "      <td>Moneycontrol is India’s No. 1 financial portal...</td>\n",
              "      <td>2009-08-26 07:55:29</td>\n",
              "      <td>900054</td>\n",
              "      <td>288</td>\n",
              "      <td>983</td>\n",
              "      <td>True</td>\n",
              "      <td>2020-08-12 05:05:53</td>\n",
              "      <td>Health Ministry update | India has recorded ov...</td>\n",
              "      <td>NaN</td>\n",
              "      <td>Twitter Web App</td>\n",
              "      <td>False</td>\n",
              "    </tr>\n",
              "    <tr>\n",
              "      <th>117600</th>\n",
              "      <td>Swachh Bharat Urban</td>\n",
              "      <td>New Delhi, India</td>\n",
              "      <td>Official account of Swachh Bharat Mission (Urb...</td>\n",
              "      <td>2015-12-04 12:27:32</td>\n",
              "      <td>217396</td>\n",
              "      <td>237</td>\n",
              "      <td>8252</td>\n",
              "      <td>True</td>\n",
              "      <td>2020-08-12 05:05:50</td>\n",
              "      <td>South Delhi Municipal Corporation is protectin...</td>\n",
              "      <td>['COVID19']</td>\n",
              "      <td>Twitter for Android</td>\n",
              "      <td>False</td>\n",
              "    </tr>\n",
              "  </tbody>\n",
              "</table>\n",
              "<p>117601 rows × 13 columns</p>\n",
              "</div>"
            ],
            "text/plain": [
              "                       user_name         user_location  \\\n",
              "0                         ᏉᎥ☻լꂅϮ            astroworld   \n",
              "1                  Tom Basile 🇺🇸          New York, NY   \n",
              "2                Time4fisticuffs      Pewee Valley, KY   \n",
              "3                    ethel mertz  Stuck in the Middle    \n",
              "4                       DIPR-J&K     Jammu and Kashmir   \n",
              "...                          ...                   ...   \n",
              "117596  www.THEPIGEONEXPRESS.com                online   \n",
              "117597         Alan Robinson-Orr                   NaN   \n",
              "117598              Real_Abaddon    Occupied Territory   \n",
              "117599              moneycontrol                Mumbai   \n",
              "117600       Swachh Bharat Urban      New Delhi, India   \n",
              "\n",
              "                                         user_description  \\\n",
              "0       wednesday addams as a disney princess keepin i...   \n",
              "1       Husband, Father, Columnist & Commentator. Auth...   \n",
              "2       #Christian #Catholic #Conservative #Reagan #Re...   \n",
              "3       #Browns #Indians #ClevelandProud #[]_[] #Cavs ...   \n",
              "4       🖊️Official Twitter handle of Department of Inf...   \n",
              "...                                                   ...   \n",
              "117596  The Pigeon Express @PigeonExpress_ || News Fee...   \n",
              "117597  58, unashamed Labour member and atheist. Came ...   \n",
              "117598                            In the Fight since 1986   \n",
              "117599  Moneycontrol is India’s No. 1 financial portal...   \n",
              "117600  Official account of Swachh Bharat Mission (Urb...   \n",
              "\n",
              "               user_created  user_followers  user_friends  user_favourites  \\\n",
              "0       2017-05-26 05:46:42             624           950            18775   \n",
              "1       2009-04-16 20:06:23            2253          1677               24   \n",
              "2       2009-02-28 18:57:41            9275          9525             7254   \n",
              "3       2019-03-07 01:45:06             197           987             1488   \n",
              "4       2017-02-12 06:45:15          101009           168              101   \n",
              "...                     ...             ...           ...              ...   \n",
              "117596  2018-10-30 05:54:46            1046           110             4109   \n",
              "117597  2019-11-27 06:00:36             203           334            10316   \n",
              "117598  2020-03-15 01:31:59               3             5                1   \n",
              "117599  2009-08-26 07:55:29          900054           288              983   \n",
              "117600  2015-12-04 12:27:32          217396           237             8252   \n",
              "\n",
              "        user_verified                 date  \\\n",
              "0               False  2020-07-25 12:27:21   \n",
              "1                True  2020-07-25 12:27:17   \n",
              "2               False  2020-07-25 12:27:14   \n",
              "3               False  2020-07-25 12:27:10   \n",
              "4               False  2020-07-25 12:27:08   \n",
              "...               ...                  ...   \n",
              "117596          False  2020-08-12 05:06:00   \n",
              "117597          False  2020-08-12 05:05:59   \n",
              "117598          False  2020-08-12 05:05:57   \n",
              "117599           True  2020-08-12 05:05:53   \n",
              "117600           True  2020-08-12 05:05:50   \n",
              "\n",
              "                                                     text  \\\n",
              "0       If I smelled the scent of hand sanitizers toda...   \n",
              "1       Hey @Yankees @YankeesPR and @MLB - wouldn't it...   \n",
              "2       @diane3443 @wdunlap @realDonaldTrump Trump nev...   \n",
              "3       @brookbanktv The one gift #COVID19 has give me...   \n",
              "4       25 July : Media Bulletin on Novel #CoronaVirus...   \n",
              "...                                                   ...   \n",
              "117596  New Zealand re-imposes restrictions after repo...   \n",
              "117597  @talkRADIO @Iromg @ashfield_lee To listen to t...   \n",
              "117598  Vote OLDEN-HORRID 2020 if you want NEW WORLD O...   \n",
              "117599  Health Ministry update | India has recorded ov...   \n",
              "117600  South Delhi Municipal Corporation is protectin...   \n",
              "\n",
              "                                    hashtags               source  is_retweet  \n",
              "0                                        NaN   Twitter for iPhone       False  \n",
              "1                                        NaN  Twitter for Android       False  \n",
              "2                                ['COVID19']  Twitter for Android       False  \n",
              "3                                ['COVID19']   Twitter for iPhone       False  \n",
              "4          ['CoronaVirusUpdates', 'COVID19']  Twitter for Android       False  \n",
              "...                                      ...                  ...         ...  \n",
              "117596                        ['NewZealand']            TweetDeck       False  \n",
              "117597                                   NaN  Twitter for Android       False  \n",
              "117598  ['nwo', 'covid19', 'bible', 'jesus']      Twitter Web App       False  \n",
              "117599                                   NaN      Twitter Web App       False  \n",
              "117600                           ['COVID19']  Twitter for Android       False  \n",
              "\n",
              "[117601 rows x 13 columns]"
            ]
          },
          "metadata": {
            "tags": []
          },
          "execution_count": 6
        }
      ]
    },
    {
      "cell_type": "code",
      "metadata": {
        "id": "cRbv7ZHF-HEe"
      },
      "source": [
        ""
      ],
      "execution_count": null,
      "outputs": []
    },
    {
      "cell_type": "code",
      "metadata": {
        "id": "U3F2wYB_sNDG"
      },
      "source": [
        ""
      ],
      "execution_count": null,
      "outputs": []
    },
    {
      "cell_type": "markdown",
      "metadata": {
        "id": "dwVfS3vLsNDK"
      },
      "source": [
        "#  Find out how many user accounts have been created after 2010"
      ]
    },
    {
      "cell_type": "code",
      "metadata": {
        "id": "ITny1aTRsNDL",
        "outputId": "cadf1d07-9c8f-4fd5-e9aa-07ae78c00de8"
      },
      "source": [
        "df[(df['user_created'] > '2010-12-31 23:59:59')]['user_created'].count()"
      ],
      "execution_count": null,
      "outputs": [
        {
          "output_type": "execute_result",
          "data": {
            "text/plain": [
              "81826"
            ]
          },
          "metadata": {
            "tags": []
          },
          "execution_count": 27
        }
      ]
    },
    {
      "cell_type": "markdown",
      "metadata": {
        "id": "iyb7uHVJsNDN"
      },
      "source": [
        "# Find out how many users have followers more than 10,000"
      ]
    },
    {
      "cell_type": "code",
      "metadata": {
        "id": "DBaeXBNmsNDO",
        "outputId": "0a4324ff-d29a-4b1f-c4c4-c56452c4a9af"
      },
      "source": [
        "(df[(df['user_followers'] > 10000)])['user_followers'].count()"
      ],
      "execution_count": null,
      "outputs": [
        {
          "output_type": "execute_result",
          "data": {
            "text/plain": [
              "21708"
            ]
          },
          "metadata": {
            "tags": []
          },
          "execution_count": 26
        }
      ]
    },
    {
      "cell_type": "markdown",
      "metadata": {
        "id": "f75F3ws1sNDQ"
      },
      "source": [
        "#  Find out how many users have been verified"
      ]
    },
    {
      "cell_type": "code",
      "metadata": {
        "id": "FqjKJfFbsNDR",
        "outputId": "a6003ebc-f23d-424c-a896-f99ea9818df2"
      },
      "source": [
        "number_of_verified = df[(df[\"user_verified\"]==True)]['user_verified'].count()\n",
        "number_of_verified"
      ],
      "execution_count": null,
      "outputs": [
        {
          "output_type": "execute_result",
          "data": {
            "text/plain": [
              "15148"
            ]
          },
          "metadata": {
            "tags": []
          },
          "execution_count": 25
        }
      ]
    },
    {
      "cell_type": "markdown",
      "metadata": {
        "id": "2SdKiVvzsNDU"
      },
      "source": [
        "# List top 10 hashtags they used in the tweets"
      ]
    },
    {
      "cell_type": "code",
      "metadata": {
        "id": "hAIzotM6sNDV",
        "outputId": "7a983cde-58bd-4e2f-f7df-2bd2747395d2"
      },
      "source": [
        "new_df = df['hashtags'].value_counts()[:10].index.tolist()\n",
        "from collections import Iterable\n",
        "\n",
        "def single_list(list,ignore_types=(str)):\n",
        "    \n",
        "    \n",
        "    for item in list:\n",
        "        if isinstance(item, Iterable) and not isinstance(item, ignore_types):\n",
        "            yield from single_list(item,ignore_types=(str))\n",
        "        else:\n",
        "            yield item\n",
        "\n",
        "items_single=single_list(new_df)\n",
        "\n",
        "for item in items_single:\n",
        "    \n",
        "    print(item)"
      ],
      "execution_count": null,
      "outputs": [
        {
          "output_type": "stream",
          "text": [
            "['COVID19']\n",
            "['Covid19']\n",
            "['covid19']\n",
            "['coronavirus', 'CoronaVirusUpdate', 'COVID19', 'CoronavirusPandemic']\n",
            "['COVID19', 'coronavirus']\n",
            "['coronavirus']\n",
            "['coronavirus', 'COVID19']\n",
            "['Coronavirus', 'COVID19']\n",
            "['CoronaVirusUpdates', 'COVID19']\n",
            "['Coronavirus']\n"
          ],
          "name": "stdout"
        }
      ]
    },
    {
      "cell_type": "markdown",
      "metadata": {
        "id": "M8MbKkLrsNDY"
      },
      "source": [
        "# Count how many tweets have been retweeted"
      ]
    },
    {
      "cell_type": "code",
      "metadata": {
        "id": "C0wUV-0BsNDY",
        "outputId": "0c31f8fe-8ec3-49b4-da91-07d4ca7ce37e"
      },
      "source": [
        "retweeted = df[(df['is_retweet'] == True)]['is_retweet'].count()\n",
        "retweeted"
      ],
      "execution_count": null,
      "outputs": [
        {
          "output_type": "execute_result",
          "data": {
            "text/plain": [
              "0"
            ]
          },
          "metadata": {
            "tags": []
          },
          "execution_count": 24
        }
      ]
    },
    {
      "cell_type": "code",
      "metadata": {
        "id": "zq2iMsLBsNDb"
      },
      "source": [
        ""
      ],
      "execution_count": null,
      "outputs": []
    }
  ]
}