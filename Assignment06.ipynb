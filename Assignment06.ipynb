{
 "cells": [
  {
   "cell_type": "code",
   "execution_count": 2,
   "metadata": {
    "id": "VqBAelAr2IVt",
    "outputId": "d9ee93d8-aadf-4b5d-c3c8-fce084798e6a"
   },
   "outputs": [
    {
     "data": {
      "text/html": [
       "<div>\n",
       "<style scoped>\n",
       "    .dataframe tbody tr th:only-of-type {\n",
       "        vertical-align: middle;\n",
       "    }\n",
       "\n",
       "    .dataframe tbody tr th {\n",
       "        vertical-align: top;\n",
       "    }\n",
       "\n",
       "    .dataframe thead th {\n",
       "        text-align: right;\n",
       "    }\n",
       "</style>\n",
       "<table border=\"1\" class=\"dataframe\">\n",
       "  <thead>\n",
       "    <tr style=\"text-align: right;\">\n",
       "      <th></th>\n",
       "      <th>user_name</th>\n",
       "      <th>user_location</th>\n",
       "      <th>user_description</th>\n",
       "      <th>user_created</th>\n",
       "      <th>user_followers</th>\n",
       "      <th>user_friends</th>\n",
       "      <th>user_favourites</th>\n",
       "      <th>user_verified</th>\n",
       "      <th>date</th>\n",
       "      <th>text</th>\n",
       "      <th>hashtags</th>\n",
       "      <th>source</th>\n",
       "      <th>is_retweet</th>\n",
       "    </tr>\n",
       "  </thead>\n",
       "  <tbody>\n",
       "    <tr>\n",
       "      <th>0</th>\n",
       "      <td>ᏉᎥ☻լꂅϮ</td>\n",
       "      <td>astroworld</td>\n",
       "      <td>wednesday addams as a disney princess keepin i...</td>\n",
       "      <td>2017-05-26 05:46:42</td>\n",
       "      <td>624</td>\n",
       "      <td>950</td>\n",
       "      <td>18775</td>\n",
       "      <td>False</td>\n",
       "      <td>2020-07-25 12:27:21</td>\n",
       "      <td>If I smelled the scent of hand sanitizers toda...</td>\n",
       "      <td>NaN</td>\n",
       "      <td>Twitter for iPhone</td>\n",
       "      <td>False</td>\n",
       "    </tr>\n",
       "    <tr>\n",
       "      <th>1</th>\n",
       "      <td>Tom Basile 🇺🇸</td>\n",
       "      <td>New York, NY</td>\n",
       "      <td>Husband, Father, Columnist &amp; Commentator. Auth...</td>\n",
       "      <td>2009-04-16 20:06:23</td>\n",
       "      <td>2253</td>\n",
       "      <td>1677</td>\n",
       "      <td>24</td>\n",
       "      <td>True</td>\n",
       "      <td>2020-07-25 12:27:17</td>\n",
       "      <td>Hey @Yankees @YankeesPR and @MLB - wouldn't it...</td>\n",
       "      <td>NaN</td>\n",
       "      <td>Twitter for Android</td>\n",
       "      <td>False</td>\n",
       "    </tr>\n",
       "    <tr>\n",
       "      <th>2</th>\n",
       "      <td>Time4fisticuffs</td>\n",
       "      <td>Pewee Valley, KY</td>\n",
       "      <td>#Christian #Catholic #Conservative #Reagan #Re...</td>\n",
       "      <td>2009-02-28 18:57:41</td>\n",
       "      <td>9275</td>\n",
       "      <td>9525</td>\n",
       "      <td>7254</td>\n",
       "      <td>False</td>\n",
       "      <td>2020-07-25 12:27:14</td>\n",
       "      <td>@diane3443 @wdunlap @realDonaldTrump Trump nev...</td>\n",
       "      <td>['COVID19']</td>\n",
       "      <td>Twitter for Android</td>\n",
       "      <td>False</td>\n",
       "    </tr>\n",
       "    <tr>\n",
       "      <th>3</th>\n",
       "      <td>ethel mertz</td>\n",
       "      <td>Stuck in the Middle</td>\n",
       "      <td>#Browns #Indians #ClevelandProud #[]_[] #Cavs ...</td>\n",
       "      <td>2019-03-07 01:45:06</td>\n",
       "      <td>197</td>\n",
       "      <td>987</td>\n",
       "      <td>1488</td>\n",
       "      <td>False</td>\n",
       "      <td>2020-07-25 12:27:10</td>\n",
       "      <td>@brookbanktv The one gift #COVID19 has give me...</td>\n",
       "      <td>['COVID19']</td>\n",
       "      <td>Twitter for iPhone</td>\n",
       "      <td>False</td>\n",
       "    </tr>\n",
       "    <tr>\n",
       "      <th>4</th>\n",
       "      <td>DIPR-J&amp;K</td>\n",
       "      <td>Jammu and Kashmir</td>\n",
       "      <td>🖊️Official Twitter handle of Department of Inf...</td>\n",
       "      <td>2017-02-12 06:45:15</td>\n",
       "      <td>101009</td>\n",
       "      <td>168</td>\n",
       "      <td>101</td>\n",
       "      <td>False</td>\n",
       "      <td>2020-07-25 12:27:08</td>\n",
       "      <td>25 July : Media Bulletin on Novel #CoronaVirus...</td>\n",
       "      <td>['CoronaVirusUpdates', 'COVID19']</td>\n",
       "      <td>Twitter for Android</td>\n",
       "      <td>False</td>\n",
       "    </tr>\n",
       "  </tbody>\n",
       "</table>\n",
       "</div>"
      ],
      "text/plain": [
       "         user_name         user_location  \\\n",
       "0           ᏉᎥ☻լꂅϮ            astroworld   \n",
       "1    Tom Basile 🇺🇸          New York, NY   \n",
       "2  Time4fisticuffs      Pewee Valley, KY   \n",
       "3      ethel mertz  Stuck in the Middle    \n",
       "4         DIPR-J&K     Jammu and Kashmir   \n",
       "\n",
       "                                    user_description         user_created  \\\n",
       "0  wednesday addams as a disney princess keepin i...  2017-05-26 05:46:42   \n",
       "1  Husband, Father, Columnist & Commentator. Auth...  2009-04-16 20:06:23   \n",
       "2  #Christian #Catholic #Conservative #Reagan #Re...  2009-02-28 18:57:41   \n",
       "3  #Browns #Indians #ClevelandProud #[]_[] #Cavs ...  2019-03-07 01:45:06   \n",
       "4  🖊️Official Twitter handle of Department of Inf...  2017-02-12 06:45:15   \n",
       "\n",
       "   user_followers  user_friends  user_favourites  user_verified  \\\n",
       "0             624           950            18775          False   \n",
       "1            2253          1677               24           True   \n",
       "2            9275          9525             7254          False   \n",
       "3             197           987             1488          False   \n",
       "4          101009           168              101          False   \n",
       "\n",
       "                  date                                               text  \\\n",
       "0  2020-07-25 12:27:21  If I smelled the scent of hand sanitizers toda...   \n",
       "1  2020-07-25 12:27:17  Hey @Yankees @YankeesPR and @MLB - wouldn't it...   \n",
       "2  2020-07-25 12:27:14  @diane3443 @wdunlap @realDonaldTrump Trump nev...   \n",
       "3  2020-07-25 12:27:10  @brookbanktv The one gift #COVID19 has give me...   \n",
       "4  2020-07-25 12:27:08  25 July : Media Bulletin on Novel #CoronaVirus...   \n",
       "\n",
       "                            hashtags               source  is_retweet  \n",
       "0                                NaN   Twitter for iPhone       False  \n",
       "1                                NaN  Twitter for Android       False  \n",
       "2                        ['COVID19']  Twitter for Android       False  \n",
       "3                        ['COVID19']   Twitter for iPhone       False  \n",
       "4  ['CoronaVirusUpdates', 'COVID19']  Twitter for Android       False  "
      ]
     },
     "execution_count": 2,
     "metadata": {},
     "output_type": "execute_result"
    }
   ],
   "source": [
    "import pandas as pd\n",
    "df = pd.read_csv('covid19_tweets.csv.zip')\n",
    "df.head()"
   ]
  },
  {
   "cell_type": "markdown",
   "metadata": {
    "id": "KsITc5Yi2IVx"
   },
   "source": [
    "# Find out how many users are from USA, India, and Bangladesh. This time be more precise. (Hint: Consider including state/division names)"
   ]
  },
  {
   "cell_type": "code",
   "execution_count": 3,
   "metadata": {
    "id": "cnULgUkO2IVy"
   },
   "outputs": [],
   "source": [
    "#USA\n",
    "state_names_usa = ['USA','United States', \"Alaska, USA\", \"Alabama, USA\", \"Arkansas, USA\", \"American Samoa, USA\", \"Arizona,USA\", \"California, USA\",\n",
    "               \"Colorado, USA\", \"Connecticut, USA\",\n",
    "               \"District, USA\", \"Columbia, USA\", \"Delaware, USA\", \"Florida, USA\", \"Georgia, USA\", \"Guam, USA\",\n",
    "               \"Hawaii, USA\", \"Iowa, USA\", \"Idaho, USA\", \"Illinois, USA\",\n",
    "               \"Indiana, USA\", \"Kansas, USA\", \"Kentucky, USA\", \"Louisiana, USA\", \"Massachusetts, USA\", \"Maryland, USA\",\n",
    "               \"Maine, USA\", \"Michigan, USA\", \"Minnesota, USA\",\n",
    "               \"Missouri, USA\", \"Mississippi, USA\", \"Montana, USA\", \"North Carolina, USA\", \"North Dakota, USA\",\n",
    "               \"Nebraska, USA\", \"New Hampshire, USA\", \n",
    "               \"New Jersey, USA\", \"New Mexico, USA\", \"Nevada, USA\", \"New York, USA\",'New York, NY', \"Ohio, USA\", \"Oklahoma, USA\",\n",
    "               \"Oregon, USA\", \"Pennsylvania, USA\", \"Puerto Rico, USA\",\n",
    "               \"Rhode Island, USA\", \"South Carolina, USA\", \"South Dakota, USA\", \"Tennessee, USA\", \"Texas, USA\",\n",
    "               \"Utah, USA\", \"Virginia, USA\", \"Virgin Islands, USA\",\n",
    "               \"Vermont, USA\", \"Washington, USA\", \"Wisconsin, USA\", \"West Virginia, USA\", \"Wyoming, USA\"]\n"
   ]
  },
  {
   "cell_type": "code",
   "execution_count": 4,
   "metadata": {
    "id": "66Bj04Gx2IV1",
    "outputId": "4bd6f56b-5abd-49d1-b728-c3036dd8097c"
   },
   "outputs": [
    {
     "data": {
      "text/plain": [
       "8938"
      ]
     },
     "execution_count": 4,
     "metadata": {},
     "output_type": "execute_result"
    }
   ],
   "source": [
    "filtered_df = df[df['user_location'].isin(state_names_usa)]\n",
    "len(filtered_df)"
   ]
  },
  {
   "cell_type": "code",
   "execution_count": 5,
   "metadata": {
    "id": "PLTt5yql2IV5"
   },
   "outputs": [],
   "source": [
    "# India\n",
    "state_names_india = [\"Andhra Pradesh\",\"Arunachal Pradesh \",\"Assam\",\"Bihar\",\"Chhattisgarh\",\"Goa\",\n",
    "                   \"Gujarat\",\"Haryana\",\"Himachal Pradesh\",\"Jammu and Kashmir\",\"Jharkhand\",\"Karnataka\",\n",
    "                   \"Kerala\",\"Madhya Pradesh\",\"Maharashtra\",\"Manipur\",\"Meghalaya\",\"Mizoram\",\n",
    "                   \"Nagaland\",\"Odisha\",\"Punjab\",\"Rajasthan\",\"Sikkim\",\"Tamil Nadu\",\"Telangana\",\n",
    "                   \"Tripura\",\"Uttar Pradesh\",\"Uttarakhand\",\"West Bengal\",\"Andaman and Nicobar Islands\",\n",
    "                   \"Chandigarh\",\"Dadra and Nagar Haveli\",\"Daman and Diu\",\"Lakshadweep\",\n",
    "                   \"National Capital Territory of Delhi\",\"Puducherry\", 'India', 'New Delhi, India', 'Jammu, Kashmir & Ladakh']"
   ]
  },
  {
   "cell_type": "code",
   "execution_count": 6,
   "metadata": {
    "id": "w0fTd1TQ2IV8",
    "outputId": "5424efdb-58bc-4e52-97cd-18854c114943"
   },
   "outputs": [
    {
     "data": {
      "text/plain": [
       "5892"
      ]
     },
     "execution_count": 6,
     "metadata": {},
     "output_type": "execute_result"
    }
   ],
   "source": [
    "filtered_df = df[df['user_location'].isin(state_names_india)]\n",
    "len(filtered_df)"
   ]
  },
  {
   "cell_type": "code",
   "execution_count": 7,
   "metadata": {
    "id": "fVqCblKE2IV-",
    "outputId": "7da29b76-7a27-4177-b457-582e6e0aa608"
   },
   "outputs": [
    {
     "data": {
      "text/plain": [
       "164"
      ]
     },
     "execution_count": 7,
     "metadata": {},
     "output_type": "execute_result"
    }
   ],
   "source": [
    "# Bangladesh\n",
    "state_names_Bangladesh = ['Bangladesh', 'Dhaka, Bangladesh', 'Rangpur', 'Chittagong, Bangladesh', 'Khulna', 'Rajshahi', 'Sylhet', 'Barishal']\n",
    "filtered_df = df[df['user_location'].isin(state_names_Bangladesh)]\n",
    "len(filtered_df)"
   ]
  },
  {
   "cell_type": "markdown",
   "metadata": {
    "id": "3aca9YuJ2IWA"
   },
   "source": [
    "# Find most frequent words used in the tweet texts"
   ]
  },
  {
   "cell_type": "code",
   "execution_count": 8,
   "metadata": {
    "id": "C7u6thYy2IWB"
   },
   "outputs": [],
   "source": [
    "import nltk"
   ]
  },
  {
   "cell_type": "code",
   "execution_count": 10,
   "metadata": {
    "id": "z7KEH_BS2IWF",
    "outputId": "35426cbb-f11b-453c-96d5-055ae2dd34ca"
   },
   "outputs": [
    {
     "data": {
      "text/plain": [
       "['0',\n",
       " 'If',\n",
       " 'I',\n",
       " 'smelled',\n",
       " 'the',\n",
       " 'scent',\n",
       " 'of',\n",
       " 'hand',\n",
       " 'sanitizers',\n",
       " 'toda',\n",
       " '...',\n",
       " '1',\n",
       " 'Hey',\n",
       " '@',\n",
       " 'Yankees',\n",
       " '@',\n",
       " 'YankeesPR',\n",
       " 'and',\n",
       " '@',\n",
       " 'MLB',\n",
       " '-',\n",
       " 'would',\n",
       " \"n't\",\n",
       " 'it',\n",
       " '...',\n",
       " '2',\n",
       " '@',\n",
       " 'diane3443',\n",
       " '@',\n",
       " 'wdunlap',\n",
       " '@',\n",
       " 'realDonaldTrump',\n",
       " 'Trump',\n",
       " 'nev',\n",
       " '...',\n",
       " '3',\n",
       " '@',\n",
       " 'brookbanktv',\n",
       " 'The',\n",
       " 'one',\n",
       " 'gift',\n",
       " '#',\n",
       " 'COVID19',\n",
       " 'has',\n",
       " 'give',\n",
       " 'me',\n",
       " '...',\n",
       " '4',\n",
       " '25',\n",
       " 'July',\n",
       " ':',\n",
       " 'Media',\n",
       " 'Bulletin',\n",
       " 'on',\n",
       " 'Novel',\n",
       " '#',\n",
       " 'CoronaVirus',\n",
       " '...',\n",
       " '...',\n",
       " '179103',\n",
       " 'Thanks',\n",
       " '@',\n",
       " 'IamOhmai',\n",
       " 'for',\n",
       " 'nominating',\n",
       " 'me',\n",
       " 'for',\n",
       " 'the',\n",
       " '@',\n",
       " 'WH',\n",
       " '...',\n",
       " '179104',\n",
       " '2020',\n",
       " '!',\n",
       " 'The',\n",
       " 'year',\n",
       " 'of',\n",
       " 'insanity',\n",
       " '!',\n",
       " 'Lol',\n",
       " '!',\n",
       " '#',\n",
       " 'COVID19',\n",
       " 'http',\n",
       " '...',\n",
       " '179105',\n",
       " '@',\n",
       " 'CTVNews',\n",
       " 'A',\n",
       " 'powerful',\n",
       " 'painting',\n",
       " 'by',\n",
       " 'Juan',\n",
       " 'Lucena',\n",
       " '.',\n",
       " 'I',\n",
       " '...',\n",
       " '179106',\n",
       " 'More',\n",
       " 'than',\n",
       " '1,200',\n",
       " 'students',\n",
       " 'test',\n",
       " 'positive',\n",
       " 'for',\n",
       " '#',\n",
       " 'CO',\n",
       " '...',\n",
       " '179107',\n",
       " 'I',\n",
       " 'stop',\n",
       " 'when',\n",
       " 'I',\n",
       " 'see',\n",
       " 'a',\n",
       " 'Stop\\\\n\\\\n',\n",
       " '@',\n",
       " 'SABCNews\\\\n',\n",
       " '@',\n",
       " 'Izinda',\n",
       " '...',\n",
       " 'Name',\n",
       " ':',\n",
       " 'text',\n",
       " ',',\n",
       " 'Length',\n",
       " ':',\n",
       " '179108',\n",
       " ',',\n",
       " 'dtype',\n",
       " ':',\n",
       " 'object']"
      ]
     },
     "execution_count": 10,
     "metadata": {},
     "output_type": "execute_result"
    }
   ],
   "source": [
    "\n",
    "text = nltk.word_tokenize(str(df.text))\n",
    "text"
   ]
  },
  {
   "cell_type": "code",
   "execution_count": 11,
   "metadata": {
    "id": "31iBFQyE2IWH",
    "outputId": "eaf570b8-ca3e-4de3-ea4b-d9a11c81a5ea"
   },
   "outputs": [
    {
     "data": {
      "text/plain": [
       "132"
      ]
     },
     "execution_count": 11,
     "metadata": {},
     "output_type": "execute_result"
    }
   ],
   "source": [
    "len(text)"
   ]
  },
  {
   "cell_type": "code",
   "execution_count": 12,
   "metadata": {
    "id": "JB6KiOxO2IWK",
    "outputId": "ea1703e2-3b54-49d5-b873-9b433352a9e4"
   },
   "outputs": [
    {
     "data": {
      "text/plain": [
       "['0',\n",
       " 'If',\n",
       " 'I',\n",
       " 'smelled',\n",
       " 'the',\n",
       " 'scent',\n",
       " 'of',\n",
       " 'hand',\n",
       " 'sanitizers',\n",
       " 'toda...',\n",
       " '1',\n",
       " 'Hey',\n",
       " '@Yankees',\n",
       " '@YankeesPR',\n",
       " 'and',\n",
       " '@MLB',\n",
       " '-',\n",
       " \"wouldn't\",\n",
       " 'it...',\n",
       " '2',\n",
       " '@diane3443',\n",
       " '@wdunlap',\n",
       " '@realDonaldTrump',\n",
       " 'Trump',\n",
       " 'nev...',\n",
       " '3',\n",
       " '@brookbanktv',\n",
       " 'The',\n",
       " 'one',\n",
       " 'gift',\n",
       " '#COVID19',\n",
       " 'has',\n",
       " 'give',\n",
       " 'me...',\n",
       " '4',\n",
       " '25',\n",
       " 'July',\n",
       " ':',\n",
       " 'Media',\n",
       " 'Bulletin',\n",
       " 'on',\n",
       " 'Novel',\n",
       " '#CoronaVirus...',\n",
       " '...',\n",
       " '179103',\n",
       " 'Thanks',\n",
       " '@IamOhmai',\n",
       " 'for',\n",
       " 'nominating',\n",
       " 'me',\n",
       " 'for',\n",
       " 'the',\n",
       " '@WH...',\n",
       " '179104',\n",
       " '2020!',\n",
       " 'The',\n",
       " 'year',\n",
       " 'of',\n",
       " 'insanity!',\n",
       " 'Lol!',\n",
       " '#COVID19',\n",
       " 'http...',\n",
       " '179105',\n",
       " '@CTVNews',\n",
       " 'A',\n",
       " 'powerful',\n",
       " 'painting',\n",
       " 'by',\n",
       " 'Juan',\n",
       " 'Lucena.',\n",
       " 'I...',\n",
       " '179106',\n",
       " 'More',\n",
       " 'than',\n",
       " '1,200',\n",
       " 'students',\n",
       " 'test',\n",
       " 'positive',\n",
       " 'for',\n",
       " '#CO...',\n",
       " '179107',\n",
       " 'I',\n",
       " 'stop',\n",
       " 'when',\n",
       " 'I',\n",
       " 'see',\n",
       " 'a',\n",
       " 'Stop\\\\n\\\\n@SABCNews\\\\n@Izinda...',\n",
       " 'Name:',\n",
       " 'text,',\n",
       " 'Length:',\n",
       " '179108,',\n",
       " 'dtype:',\n",
       " 'object']"
      ]
     },
     "execution_count": 12,
     "metadata": {},
     "output_type": "execute_result"
    }
   ],
   "source": [
    "new1 = str(df.text).split()\n",
    "new1"
   ]
  },
  {
   "cell_type": "code",
   "execution_count": 13,
   "metadata": {
    "id": "-TG-iT0U2IWM",
    "outputId": "05454611-9762-432c-b91a-bea6090514b8"
   },
   "outputs": [
    {
     "data": {
      "text/plain": [
       "94"
      ]
     },
     "execution_count": 13,
     "metadata": {},
     "output_type": "execute_result"
    }
   ],
   "source": [
    "len(new1)"
   ]
  },
  {
   "cell_type": "code",
   "execution_count": 14,
   "metadata": {
    "id": "BtF6toHq2IWO",
    "outputId": "d75f1dad-779d-4281-f737-696594ceaccb"
   },
   "outputs": [
    {
     "data": {
      "text/plain": [
       "['Name:',\n",
       " '179107',\n",
       " 'of',\n",
       " 'dtype:',\n",
       " 'students',\n",
       " 'I',\n",
       " 'one',\n",
       " '179103',\n",
       " '@IamOhmai',\n",
       " 'year',\n",
       " 'for',\n",
       " '@CTVNews',\n",
       " 'powerful',\n",
       " '3',\n",
       " '@Yankees',\n",
       " 'Hey',\n",
       " 'A',\n",
       " '@WH...',\n",
       " 'hand',\n",
       " 'nev...',\n",
       " '#CoronaVirus...',\n",
       " '...',\n",
       " 'me',\n",
       " 'Lol!',\n",
       " 'text,',\n",
       " '@realDonaldTrump',\n",
       " 'scent',\n",
       " 'smelled',\n",
       " '@diane3443',\n",
       " '179104',\n",
       " 'object',\n",
       " 'I...',\n",
       " 'on',\n",
       " \"wouldn't\",\n",
       " 'The',\n",
       " 'give',\n",
       " 'If',\n",
       " '179108,',\n",
       " '4',\n",
       " 'Novel',\n",
       " 'sanitizers',\n",
       " '#COVID19',\n",
       " '1,200',\n",
       " 'has',\n",
       " '1',\n",
       " 'it...',\n",
       " ':',\n",
       " 'Bulletin',\n",
       " 'Media',\n",
       " '-',\n",
       " 'toda...',\n",
       " '25',\n",
       " 'stop',\n",
       " '@MLB',\n",
       " '2020!',\n",
       " '0',\n",
       " 'gift',\n",
       " 'Trump',\n",
       " 'Lucena.',\n",
       " '@YankeesPR',\n",
       " 'July',\n",
       " 'the',\n",
       " 'Stop\\\\n\\\\n@SABCNews\\\\n@Izinda...',\n",
       " '2',\n",
       " 'Juan',\n",
       " 'me...',\n",
       " 'a',\n",
       " '#CO...',\n",
       " '179106',\n",
       " 'painting',\n",
       " 'Thanks',\n",
       " 'positive',\n",
       " 'when',\n",
       " '@brookbanktv',\n",
       " 'and',\n",
       " 'nominating',\n",
       " 'test',\n",
       " '@wdunlap',\n",
       " 'see',\n",
       " '179105',\n",
       " 'by',\n",
       " 'More',\n",
       " 'Length:',\n",
       " 'http...',\n",
       " 'insanity!',\n",
       " 'than']"
      ]
     },
     "execution_count": 14,
     "metadata": {},
     "output_type": "execute_result"
    }
   ],
   "source": [
    "new2 = list(set(new1))\n",
    "new2"
   ]
  },
  {
   "cell_type": "code",
   "execution_count": 15,
   "metadata": {
    "id": "dXTb9YGm2IWR",
    "outputId": "d0095ccc-15e5-40bf-9863-fdeadb1c7f9f"
   },
   "outputs": [
    {
     "data": {
      "text/plain": [
       "86"
      ]
     },
     "execution_count": 15,
     "metadata": {},
     "output_type": "execute_result"
    }
   ],
   "source": [
    "len(new2)"
   ]
  },
  {
   "cell_type": "markdown",
   "metadata": {
    "id": "9y0vX7G22IWT"
   },
   "source": [
    "# Draw a Wordcloud using the tweets' texts (Use all basic works of text processing before creating wordcloud)"
   ]
  },
  {
   "cell_type": "code",
   "execution_count": null,
   "metadata": {
    "id": "FpzeSR3r2IWU",
    "outputId": "2b7b6419-13a6-40ce-9f91-12ceffe1c271"
   },
   "outputs": [
    {
     "data": {
      "text/plain": [
       "0         If I smelled the scent of hand sanitizers toda...\n",
       "1         Hey @Yankees @YankeesPR and @MLB - wouldn't it...\n",
       "2         @diane3443 @wdunlap @realDonaldTrump Trump nev...\n",
       "3         @brookbanktv The one gift #COVID19 has give me...\n",
       "4         25 July : Media Bulletin on Novel #CoronaVirus...\n",
       "                                ...                        \n",
       "117596    New Zealand re-imposes restrictions after repo...\n",
       "117597    @talkRADIO @Iromg @ashfield_lee To listen to t...\n",
       "117598    Vote OLDEN-HORRID 2020 if you want NEW WORLD O...\n",
       "117599    Health Ministry update | India has recorded ov...\n",
       "117600    South Delhi Municipal Corporation is protectin...\n",
       "Name: text, Length: 117601, dtype: object"
      ]
     },
     "execution_count": 10,
     "metadata": {
      "tags": []
     },
     "output_type": "execute_result"
    }
   ],
   "source": [
    "new_text = df['text']\n",
    "new_text"
   ]
  },
  {
   "cell_type": "code",
   "execution_count": null,
   "metadata": {
    "id": "_byjx6qe2IWX",
    "outputId": "caf37533-ffc4-4dc1-ae50-681e7fa5d914"
   },
   "outputs": [
    {
     "data": {
      "text/plain": [
       "\"0         If I smelled the scent of hand sanitizers toda...\\n1         Hey @Yankees @YankeesPR and @MLB - wouldn't it...\\n2         @diane3443 @wdunlap @realDonaldTrump Trump nev...\\n3         @brookbanktv The one gift #COVID19 has give me...\\n4         25 July : Media Bulletin on Novel #CoronaVirus...\\n                                ...                        \\n117596    New Zealand re-imposes restrictions after repo...\\n117597    @talkRADIO @Iromg @ashfield_lee To listen to t...\\n117598    Vote OLDEN-HORRID 2020 if you want NEW WORLD O...\\n117599    Health Ministry update | India has recorded ov...\\n117600    South Delhi Municipal Corporation is protectin...\\nName: text, Length: 117601, dtype: object\""
      ]
     },
     "execution_count": 11,
     "metadata": {
      "tags": []
     },
     "output_type": "execute_result"
    }
   ],
   "source": [
    "new_text = str(new_text)\n",
    "new_text"
   ]
  },
  {
   "cell_type": "code",
   "execution_count": null,
   "metadata": {
    "id": "BEVNNbqv2IWZ"
   },
   "outputs": [],
   "source": [
    "import nltk.sentiment.sentiment_analyzer "
   ]
  },
  {
   "cell_type": "code",
   "execution_count": null,
   "metadata": {
    "id": "R1cQ9p1r2IWc"
   },
   "outputs": [],
   "source": [
    "from wordcloud import WordCloud, STOPWORDS, ImageColorGenerator\n",
    "import matplotlib.pyplot as plt\n",
    "%matplotlib inline"
   ]
  },
  {
   "cell_type": "code",
   "execution_count": null,
   "metadata": {
    "id": "xZwPztn72IWe",
    "outputId": "c7c03495-c73f-405e-ec46-d48523871b2f"
   },
   "outputs": [
    {
     "data": {
      "image/png": "[encoded data removed]",
      "text/plain": [
       "<Figure size 576x396 with 1 Axes>"
      ]
     },
     "metadata": {
      "tags": []
     },
     "output_type": "display_data"
    }
   ],
   "source": [
    "stopwords = set(STOPWORDS)\n",
    "wordcloud = WordCloud(stopwords=stopwords, background_color=\"white\").generate(new_text)\n",
    "plt.imshow(wordcloud, interpolation='bilinear')\n",
    "plt.axis(\"off\")\n",
    "plt.show()"
   ]
  },
  {
   "cell_type": "markdown",
   "metadata": {
    "id": "Ju6P6czJ2IWg"
   },
   "source": [
    "# Draw the previous plots drawn in Assignment 05 using Seaborn"
   ]
  },
  {
   "cell_type": "code",
   "execution_count": null,
   "metadata": {
    "id": "cFZxfBy42IWh",
    "outputId": "00cc0bb4-fcf3-4a7e-b7f4-48a2a8713957"
   },
   "outputs": [
    {
     "data": {
      "text/plain": [
       "<AxesSubplot:xlabel='user_location', ylabel='length'>"
      ]
     },
     "execution_count": 15,
     "metadata": {
      "tags": []
     },
     "output_type": "execute_result"
    },
    {
     "data": {
      "image/png": "[encoded data removed]",
      "text/plain": [
       "<Figure size 432x288 with 1 Axes>"
      ]
     },
     "metadata": {
      "needs_background": "light",
      "tags": []
     },
     "output_type": "display_data"
    }
   ],
   "source": [
    "import matplotlib.pyplot as plt\n",
    "from matplotlib import figure\n",
    "import seaborn as sns\n",
    "import pandas as pd\n",
    "user_location = ['USA', 'INDIA', 'BANGLADESH']\n",
    "length = [559, 2338, 35]\n",
    "df1 = pd.DataFrame({ 'user_location' : user_location , 'length' : length,}, index = user_location)\n",
    "sns.barplot(x ='user_location', y ='length', data = df1 , palette = 'muted', saturation = 0.5)"
   ]
  },
  {
   "cell_type": "code",
   "execution_count": null,
   "metadata": {
    "id": "xCuJps9n2IWj",
    "outputId": "0d7f981b-0ce2-42c7-9512-df4ad8dcdde3"
   },
   "outputs": [
    {
     "data": {
      "image/png": "[encoded data removed]",
      "text/plain": [
       "<Figure size 576x396 with 1 Axes>"
      ]
     },
     "metadata": {
      "tags": []
     },
     "output_type": "display_data"
    }
   ],
   "source": [
    "#Pie chart\n",
    "import matplotlib.pyplot as plt\n",
    "plt.style.use('seaborn')\n",
    "plt.pie([len(df[(df['user_location'] == 'USA')]), len(df[(df['user_location'] == 'India')]) ,\n",
    "        len(df[(df['user_location'] == 'Bangladesh')]) ], labels = ['USA', 'INDIA', 'BANGLADESH'],\n",
    "       colors = ['c', 'b', 'r'], autopct = '%.2f%%' , explode = [0.1,0,0] )\n",
    "plt.show()"
   ]
  },
  {
   "cell_type": "markdown",
   "metadata": {
    "id": "QphOElG62IWm"
   },
   "source": [
    "# Draw bar charts for the range of user followers: <1000, 1000-10000, 10000-100000, >100000"
   ]
  },
  {
   "cell_type": "code",
   "execution_count": null,
   "metadata": {
    "id": "tCXzvWc22IWn"
   },
   "outputs": [],
   "source": []
  },
  {
   "cell_type": "markdown",
   "metadata": {
    "id": "sBdVXa2j2IWp"
   },
   "source": [
    "# <1000"
   ]
  },
  {
   "cell_type": "code",
   "execution_count": null,
   "metadata": {
    "id": "sZyAf_fh2IWp",
    "outputId": "e6e71eaa-bd04-43a7-c0ab-1b242bfb28d3"
   },
   "outputs": [
    {
     "data": {
      "image/png": "[encoded data removed]",
      "text/plain": [
       "<Figure size 1440x360 with 1 Axes>"
      ]
     },
     "metadata": {
      "needs_background": "light",
      "tags": []
     },
     "output_type": "display_data"
    }
   ],
   "source": [
    "from matplotlib import figure\n",
    "import matplotlib.pyplot as plt\n",
    "import seaborn as sns\n",
    "import pandas as pd\n",
    "import numpy as np\n",
    "\n",
    "plt.figure(figsize = (20,5))\n",
    "\n",
    "df2 = pd.DataFrame({ 'Range' :  np.arange(1, len(df['user_followers'])+1 ) , 'user_followers' : df['user_followers'].tolist() })\n",
    "\n",
    "sns.barplot(x = df2['Range'].iloc[0:1000], y = df2['user_followers'].iloc[0:1000], data = df2)\n",
    "plt.show()\n",
    " "
   ]
  },
  {
   "cell_type": "markdown",
   "metadata": {
    "id": "_oYUcDWs2IWr"
   },
   "source": [
    "# For low processor PC for this instance, i can't run these codes below !\n",
    "# Huge data"
   ]
  },
  {
   "cell_type": "markdown",
   "metadata": {
    "id": "1Tn1-XCx2IWs"
   },
   "source": [
    "# 1000 - 10000"
   ]
  },
  {
   "cell_type": "code",
   "execution_count": null,
   "metadata": {
    "id": "zuWBvNfa2IWs"
   },
   "outputs": [],
   "source": [
    "sns.barplot(x = df2['Range'].iloc[1000:10000], y = df2['user_followers'].iloc[1000:10000], data = df2)\n",
    "plt.show() "
   ]
  },
  {
   "cell_type": "markdown",
   "metadata": {
    "id": "Y-rRCuj62IWu"
   },
   "source": [
    "# 10000 - 100000"
   ]
  },
  {
   "cell_type": "code",
   "execution_count": null,
   "metadata": {
    "id": "YJVFtl972IWu"
   },
   "outputs": [],
   "source": [
    "sns.barplot(x = df2['Range'].iloc[10000:100000], y = df2['user_followers'].iloc[10000:100000], data = df2)\n",
    "plt.show()"
   ]
  },
  {
   "cell_type": "markdown",
   "metadata": {
    "id": "sPM1QHkz2IWx"
   },
   "source": [
    "# >100000"
   ]
  },
  {
   "cell_type": "code",
   "execution_count": null,
   "metadata": {
    "id": "uH6Q-_Xl2IWy"
   },
   "outputs": [],
   "source": [
    "sns.barplot(x = df2['Range'].iloc[100000:], y = df2['user_followers'].iloc[100000:], data = df2)\n",
    "plt.show()"
   ]
  },
  {
   "cell_type": "code",
   "execution_count": null,
   "metadata": {
    "id": "EHDiLH0d2IW1"
   },
   "outputs": [],
   "source": []
  },
  {
   "cell_type": "markdown",
   "metadata": {
    "id": "j0JLe8fV2IW4"
   },
   "source": [
    "# Draw a bar chart for the top 10 hashtags"
   ]
  },
  {
   "cell_type": "code",
   "execution_count": null,
   "metadata": {
    "id": "2q_vO6S52IW5",
    "outputId": "b12f07e0-f9f9-4bf0-f5bd-f40e4871fff3"
   },
   "outputs": [
    {
     "data": {
      "image/png": "[encoded data removed]",
      "text/plain": [
       "<Figure size 1440x360 with 1 Axes>"
      ]
     },
     "metadata": {
      "needs_background": "light",
      "tags": []
     },
     "output_type": "display_data"
    }
   ],
   "source": [
    "from collections import Iterable\n",
    "from matplotlib import figure\n",
    "import matplotlib.pyplot as plt\n",
    "import pandas as pd\n",
    "import seaborn as sns\n",
    "import collections\n",
    "import ast\n",
    "\n",
    "filtered_hashtags = df[df['hashtags'].notnull()]\n",
    " \n",
    "hashtag_list = []\n",
    "for i in filtered_hashtags[\"hashtags\"]:\n",
    "    hashtag_list.append(ast.literal_eval(i))\n",
    "\n",
    "def flatten(lis):\n",
    "    for item in lis:\n",
    "        if isinstance(item, Iterable) and not isinstance(item, str):\n",
    "            for x in flatten(item):\n",
    "                yield x\n",
    "        else:        \n",
    "            yield item\n",
    "                \n",
    "hashtaglist = list(flatten(hashtag_list))\n",
    "\n",
    "\n",
    "counter=collections.Counter(hashtaglist)\n",
    "\n",
    "new_count = counter.most_common(10)\n",
    "\n",
    "dict1 = dict(new_count)\n",
    "values = [val for val in dict1.values()]\n",
    "labels = [key for key in dict1]\n",
    "\n",
    " \n",
    "\n",
    "hashtags = pd.DataFrame({ 'labels' : labels, 'values' : values }, index = labels)\n",
    "\n",
    "plt.figure(figsize = (20, 5))\n",
    "sns.barplot(x = 'labels', y = 'values', data = hashtags)\n",
    "\n",
    "plt.xticks(rotation=45)\n",
    " \n",
    "plt.show()"
   ]
  },
  {
   "cell_type": "markdown",
   "metadata": {
    "id": "ZdKjyoKR2IW7"
   },
   "source": [
    "# Create a pie chart showing how many users use Android and iPhone¶\n",
    " "
   ]
  },
  {
   "cell_type": "code",
   "execution_count": null,
   "metadata": {
    "id": "3FjTzlBf2IW7",
    "outputId": "7a7667fe-c316-4673-9634-28dce39fd6dd"
   },
   "outputs": [
    {
     "data": {
      "image/png": "[encoded data removed]",
      "text/plain": [
       "<Figure size 576x396 with 1 Axes>"
      ]
     },
     "metadata": {
      "tags": []
     },
     "output_type": "display_data"
    }
   ],
   "source": [
    "android = len(df[(df['source'] == 'Twitter for Android')])\n",
    "iPhone= len(df[(df['source'] == 'Twitter for iPhone')])\n",
    "plt.style.use('seaborn')\n",
    "plt.pie([android, iPhone], labels = ['Android', 'iPhone'], colors = ['c', 'b'] , explode=(0, 0,), autopct = '%.2f%%',\n",
    "       shadow = True, radius = 1, textprops = dict(color =\"k\"))\n",
    "\n",
    "plt.legend(labels = labels, loc = 'best') \n",
    "plt.show()"
   ]
  },
  {
   "cell_type": "markdown",
   "metadata": {
    "id": "tWUSxatj2IW-"
   },
   "source": [
    "#  Create a scatter plot for date(x-axis) vs year(y-axis)"
   ]
  },
  {
   "cell_type": "code",
   "execution_count": null,
   "metadata": {
    "id": "fQ1QkkOe2IW_",
    "outputId": "a921660b-1e73-4cd7-c07a-e030c484327f"
   },
   "outputs": [
    {
     "data": {
      "text/plain": [
       "<Figure size 640x640 with 0 Axes>"
      ]
     },
     "metadata": {
      "tags": []
     },
     "output_type": "display_data"
    }
   ],
   "source": [
    "import matplotlib.pyplot as plt\n",
    "import numpy as np\n",
    "from matplotlib import figure\n",
    "import seaborn as sns\n",
    "plt.figure(figsize=(8, 8), dpi=80)\n",
    "date1 = pd.to_datetime(df['user_created'], format = '%Y-%m-%d')\n",
    "date2 = date1.dt.date\n",
    "df['yr'] = date1.apply(lambda x: x.strftime('%Y'))"
   ]
  },
  {
   "cell_type": "code",
   "execution_count": null,
   "metadata": {
    "id": "9f0jLiIV2IXB",
    "outputId": "4f6cdfde-1bbf-4221-86ed-6cf0028a46f1"
   },
   "outputs": [
    {
     "data": {
      "text/plain": [
       "0         2017\n",
       "1         2009\n",
       "2         2009\n",
       "3         2019\n",
       "4         2017\n",
       "          ... \n",
       "117596    2018\n",
       "117597    2019\n",
       "117598    2020\n",
       "117599    2009\n",
       "117600    2015\n",
       "Name: yr, Length: 117601, dtype: object"
      ]
     },
     "execution_count": 25,
     "metadata": {
      "tags": []
     },
     "output_type": "execute_result"
    }
   ],
   "source": [
    "df['yr']"
   ]
  },
  {
   "cell_type": "code",
   "execution_count": null,
   "metadata": {
    "id": "0ksrcWzB2IXD",
    "outputId": "4b79a64c-b61f-42ae-b2ef-ede349fe81f4"
   },
   "outputs": [
    {
     "data": {
      "image/png": "[encoded data removed]",
      "text/plain": [
       "<Figure size 576x396 with 1 Axes>"
      ]
     },
     "metadata": {
      "tags": []
     },
     "output_type": "display_data"
    }
   ],
   "source": [
    "sns.scatterplot( date2, df['yr'])\n",
    "plt.show()"
   ]
  },
  {
   "cell_type": "code",
   "execution_count": null,
   "metadata": {
    "id": "mWEfsSqB2IXF"
   },
   "outputs": [],
   "source": []
  }
 ],
 "metadata": {
  "colab": {
   "collapsed_sections": [
    "9y0vX7G22IWT",
    "Ju6P6czJ2IWg",
    "QphOElG62IWm",
    "sBdVXa2j2IWp",
    "_oYUcDWs2IWr",
    "1Tn1-XCx2IWs",
    "Y-rRCuj62IWu",
    "sPM1QHkz2IWx",
    "j0JLe8fV2IW4",
    "ZdKjyoKR2IW7"
   ],
   "name": "Assignment06.ipynb",
   "provenance": []
  },
  "kernelspec": {
   "display_name": "Python 3",
   "language": "python",
   "name": "python3"
  },
  "language_info": {
   "codemirror_mode": {
    "name": "ipython",
    "version": 3
   },
   "file_extension": ".py",
   "mimetype": "text/x-python",
   "name": "python",
   "nbconvert_exporter": "python",
   "pygments_lexer": "ipython3",
   "version": "3.8.3"
  }
 },
 "nbformat": 4,
 "nbformat_minor": 1
}
